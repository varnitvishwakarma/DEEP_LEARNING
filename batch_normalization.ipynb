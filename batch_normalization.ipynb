{
  "nbformat": 4,
  "nbformat_minor": 0,
  "metadata": {
    "colab": {
      "provenance": [],
      "authorship_tag": "ABX9TyPwwUhizzz1OCtwrUOA5gow",
      "include_colab_link": true
    },
    "kernelspec": {
      "name": "python3",
      "display_name": "Python 3"
    },
    "language_info": {
      "name": "python"
    }
  },
  "cells": [
    {
      "cell_type": "markdown",
      "metadata": {
        "id": "view-in-github",
        "colab_type": "text"
      },
      "source": [
        "<a href=\"https://colab.research.google.com/github/varnitvishwakarma/DEEP_LEARNING/blob/main/batch_normalization.ipynb\" target=\"_parent\"><img src=\"https://colab.research.google.com/assets/colab-badge.svg\" alt=\"Open In Colab\"/></a>"
      ]
    },
    {
      "cell_type": "code",
      "execution_count": 1,
      "metadata": {
        "id": "aaojLPqmK8jy"
      },
      "outputs": [],
      "source": [
        "import pandas as pd\n",
        "import os\n",
        "import tensorflow as tf\n",
        "import numpy as np\n",
        "import matplotlib.pyplot as plt\n",
        "import time\n",
        "plt.style.use(\"fivethirtyeight\")\n",
        "%load_ext tensorboard"
      ]
    },
    {
      "cell_type": "code",
      "source": [
        "(X_train_full, y_train_full), (X_test, y_test) = tf.keras.datasets.fashion_mnist.load_data()"
      ],
      "metadata": {
        "colab": {
          "base_uri": "https://localhost:8080/"
        },
        "id": "3OIz2tqCLnAB",
        "outputId": "dd6c9233-e2e0-4d5a-ba38-b30ea03f9427"
      },
      "execution_count": 3,
      "outputs": [
        {
          "output_type": "stream",
          "name": "stdout",
          "text": [
            "Downloading data from https://storage.googleapis.com/tensorflow/tf-keras-datasets/train-labels-idx1-ubyte.gz\n",
            "29515/29515 [==============================] - 0s 0us/step\n",
            "Downloading data from https://storage.googleapis.com/tensorflow/tf-keras-datasets/train-images-idx3-ubyte.gz\n",
            "26421880/26421880 [==============================] - 0s 0us/step\n",
            "Downloading data from https://storage.googleapis.com/tensorflow/tf-keras-datasets/t10k-labels-idx1-ubyte.gz\n",
            "5148/5148 [==============================] - 0s 0us/step\n",
            "Downloading data from https://storage.googleapis.com/tensorflow/tf-keras-datasets/t10k-images-idx3-ubyte.gz\n",
            "4422102/4422102 [==============================] - 0s 0us/step\n"
          ]
        }
      ]
    },
    {
      "cell_type": "code",
      "source": [
        "X_train_full=X_train_full/255.0\n",
        "X_test=X_test/255.0\n",
        "X_vaild,X_train=X_train_full[:5000],X_train_full[5000:]\n",
        "y_vaild,y_train=y_train_full[:5000],y_train_full[5000:]"
      ],
      "metadata": {
        "id": "KDPDbDWuNt02"
      },
      "execution_count": 4,
      "outputs": []
    },
    {
      "cell_type": "code",
      "source": [
        "tf.random.set_seed(42)\n",
        "np.random.seed(42)\n",
        "\n",
        "LAYERS=[tf.keras.layers.Flatten(input_shape=[28,28]),\n",
        "        tf.keras.layers.Dense(300,kernel_initializer=\"he_normal\"),\n",
        "        tf.keras.layers.LeakyReLU(),\n",
        "        tf.keras.layers.Dense(100,kernel_initializer=\"he_normal\"),\n",
        "        tf.keras.layers.LeakyReLU(),\n",
        "        tf.keras.layers.Dense(10,activation=\"softmax\")]\n",
        "\n",
        "model=tf.keras.models.Sequential(LAYERS)"
      ],
      "metadata": {
        "id": "kw1oepcQONkC"
      },
      "execution_count": 12,
      "outputs": []
    },
    {
      "cell_type": "code",
      "source": [
        "model.compile(loss=\"sparse_categorical_crossentropy\",\n",
        "              optimizer=tf.keras.optimizers.SGD(lr=1e-3),\n",
        "              metrics=[\"accuracy\"])"
      ],
      "metadata": {
        "colab": {
          "base_uri": "https://localhost:8080/"
        },
        "id": "GHXHgGw1PEIb",
        "outputId": "620c2814-5d52-4e04-c05b-4f1919c8b4e1"
      },
      "execution_count": 20,
      "outputs": [
        {
          "output_type": "stream",
          "name": "stderr",
          "text": [
            "WARNING:absl:`lr` is deprecated in Keras optimizer, please use `learning_rate` or use the legacy optimizer, e.g.,tf.keras.optimizers.legacy.SGD.\n"
          ]
        }
      ]
    },
    {
      "cell_type": "code",
      "source": [
        "model.summary()"
      ],
      "metadata": {
        "colab": {
          "base_uri": "https://localhost:8080/"
        },
        "id": "-OXu0h1MP5y1",
        "outputId": "77f77e12-b80c-4512-e19a-e6e705759f74"
      },
      "execution_count": 21,
      "outputs": [
        {
          "output_type": "stream",
          "name": "stdout",
          "text": [
            "Model: \"sequential\"\n",
            "_________________________________________________________________\n",
            " Layer (type)                Output Shape              Param #   \n",
            "=================================================================\n",
            " flatten_3 (Flatten)         (None, 784)               0         \n",
            "                                                                 \n",
            " dense_4 (Dense)             (None, 300)               235500    \n",
            "                                                                 \n",
            " leaky_re_lu_2 (LeakyReLU)   (None, 300)               0         \n",
            "                                                                 \n",
            " dense_5 (Dense)             (None, 100)               30100     \n",
            "                                                                 \n",
            " leaky_re_lu_3 (LeakyReLU)   (None, 100)               0         \n",
            "                                                                 \n",
            " dense_6 (Dense)             (None, 10)                1010      \n",
            "                                                                 \n",
            "=================================================================\n",
            "Total params: 266610 (1.02 MB)\n",
            "Trainable params: 266610 (1.02 MB)\n",
            "Non-trainable params: 0 (0.00 Byte)\n",
            "_________________________________________________________________\n"
          ]
        }
      ]
    },
    {
      "cell_type": "code",
      "source": [
        "start=time.time()\n",
        "\n",
        "history=model.fit(X_train,y_train,epochs=10,validation_data=(X_vaild,y_vaild),verbose=2)\n",
        "\n",
        "end=time.time()\n",
        "\n",
        "print(f\"Runtime of the program is {end-start}\")"
      ],
      "metadata": {
        "colab": {
          "base_uri": "https://localhost:8080/"
        },
        "id": "n9Bfe6qiQKsy",
        "outputId": "6ab28f9f-8981-4349-f1e2-04ebc0a850d0"
      },
      "execution_count": 23,
      "outputs": [
        {
          "output_type": "stream",
          "name": "stdout",
          "text": [
            "Epoch 1/10\n",
            "1719/1719 - 5s - loss: 0.4435 - accuracy: 0.8447 - val_loss: 0.4242 - val_accuracy: 0.8512 - 5s/epoch - 3ms/step\n",
            "Epoch 2/10\n",
            "1719/1719 - 6s - loss: 0.4204 - accuracy: 0.8518 - val_loss: 0.3968 - val_accuracy: 0.8634 - 6s/epoch - 4ms/step\n",
            "Epoch 3/10\n",
            "1719/1719 - 5s - loss: 0.4024 - accuracy: 0.8580 - val_loss: 0.4935 - val_accuracy: 0.8170 - 5s/epoch - 3ms/step\n",
            "Epoch 4/10\n",
            "1719/1719 - 6s - loss: 0.3889 - accuracy: 0.8635 - val_loss: 0.3809 - val_accuracy: 0.8670 - 6s/epoch - 3ms/step\n",
            "Epoch 5/10\n",
            "1719/1719 - 5s - loss: 0.3790 - accuracy: 0.8671 - val_loss: 0.3681 - val_accuracy: 0.8708 - 5s/epoch - 3ms/step\n",
            "Epoch 6/10\n",
            "1719/1719 - 5s - loss: 0.3660 - accuracy: 0.8714 - val_loss: 0.3699 - val_accuracy: 0.8734 - 5s/epoch - 3ms/step\n",
            "Epoch 7/10\n",
            "1719/1719 - 6s - loss: 0.3581 - accuracy: 0.8725 - val_loss: 0.3639 - val_accuracy: 0.8722 - 6s/epoch - 4ms/step\n",
            "Epoch 8/10\n",
            "1719/1719 - 5s - loss: 0.3501 - accuracy: 0.8763 - val_loss: 0.3908 - val_accuracy: 0.8610 - 5s/epoch - 3ms/step\n",
            "Epoch 9/10\n",
            "1719/1719 - 6s - loss: 0.3423 - accuracy: 0.8782 - val_loss: 0.3572 - val_accuracy: 0.8712 - 6s/epoch - 4ms/step\n",
            "Epoch 10/10\n",
            "1719/1719 - 5s - loss: 0.3356 - accuracy: 0.8802 - val_loss: 0.3511 - val_accuracy: 0.8744 - 5s/epoch - 3ms/step\n",
            "Runtime of the program is 55.1731493473053\n"
          ]
        }
      ]
    },
    {
      "cell_type": "markdown",
      "source": [
        "AFTER APPLY BATCH NORMALIZATION"
      ],
      "metadata": {
        "id": "jxqxuii5SGbJ"
      }
    },
    {
      "cell_type": "code",
      "source": [
        "del model"
      ],
      "metadata": {
        "id": "F3mp7UJ6SNXn"
      },
      "execution_count": 24,
      "outputs": []
    },
    {
      "cell_type": "code",
      "source": [
        "\n",
        "\n",
        "LAYERS_BN=[tf.keras.layers.Flatten(input_shape=[28,28]),\n",
        "        tf.keras.layers.BatchNormalization(),\n",
        "        tf.keras.layers.Dense(300,activation=\"relu\"),\n",
        "        tf.keras.layers.BatchNormalization(),\n",
        "        tf.keras.layers.Dense(100,activation=\"relu\"),\n",
        "        tf.keras.layers.BatchNormalization(),\n",
        "        tf.keras.layers.Dense(10,activation=\"softmax\")]\n",
        "\n",
        "model=tf.keras.models.Sequential(LAYERS_BN)"
      ],
      "metadata": {
        "id": "HP80hrnJSJIe"
      },
      "execution_count": 27,
      "outputs": []
    },
    {
      "cell_type": "code",
      "source": [
        "model.summary()"
      ],
      "metadata": {
        "colab": {
          "base_uri": "https://localhost:8080/"
        },
        "id": "P-71tf6YSrSH",
        "outputId": "088ed45a-5168-4a38-bee0-7310b8b4979e"
      },
      "execution_count": 28,
      "outputs": [
        {
          "output_type": "stream",
          "name": "stdout",
          "text": [
            "Model: \"sequential_2\"\n",
            "_________________________________________________________________\n",
            " Layer (type)                Output Shape              Param #   \n",
            "=================================================================\n",
            " flatten_5 (Flatten)         (None, 784)               0         \n",
            "                                                                 \n",
            " batch_normalization_3 (Bat  (None, 784)               3136      \n",
            " chNormalization)                                                \n",
            "                                                                 \n",
            " dense_10 (Dense)            (None, 300)               235500    \n",
            "                                                                 \n",
            " batch_normalization_4 (Bat  (None, 300)               1200      \n",
            " chNormalization)                                                \n",
            "                                                                 \n",
            " dense_11 (Dense)            (None, 100)               30100     \n",
            "                                                                 \n",
            " batch_normalization_5 (Bat  (None, 100)               400       \n",
            " chNormalization)                                                \n",
            "                                                                 \n",
            " dense_12 (Dense)            (None, 10)                1010      \n",
            "                                                                 \n",
            "=================================================================\n",
            "Total params: 271346 (1.04 MB)\n",
            "Trainable params: 268978 (1.03 MB)\n",
            "Non-trainable params: 2368 (9.25 KB)\n",
            "_________________________________________________________________\n"
          ]
        }
      ]
    },
    {
      "cell_type": "code",
      "source": [
        "model.compile(loss=\"sparse_categorical_crossentropy\",\n",
        "              optimizer=tf.keras.optimizers.SGD(lr=1e-3),\n",
        "              metrics=[\"accuracy\"])"
      ],
      "metadata": {
        "colab": {
          "base_uri": "https://localhost:8080/"
        },
        "id": "u6W5UVXrSt37",
        "outputId": "a88c0fbc-95c1-43f5-cde7-ef6abab6b7d3"
      },
      "execution_count": 29,
      "outputs": [
        {
          "output_type": "stream",
          "name": "stderr",
          "text": [
            "WARNING:absl:`lr` is deprecated in Keras optimizer, please use `learning_rate` or use the legacy optimizer, e.g.,tf.keras.optimizers.legacy.SGD.\n"
          ]
        }
      ]
    },
    {
      "cell_type": "code",
      "source": [
        "start=time.time()\n",
        "\n",
        "history=model.fit(X_train,y_train,epochs=10,validation_data=(X_vaild,y_vaild),verbose=2)\n",
        "\n",
        "end=time.time()\n",
        "\n",
        "print(f\"Runtime of the program is {end-start}\")"
      ],
      "metadata": {
        "colab": {
          "base_uri": "https://localhost:8080/"
        },
        "id": "lv1NP3q0TbLG",
        "outputId": "3e64fcd3-dd1c-4039-bed7-dee0bf45bcd6"
      },
      "execution_count": 30,
      "outputs": [
        {
          "output_type": "stream",
          "name": "stdout",
          "text": [
            "Epoch 1/10\n",
            "1719/1719 - 10s - loss: 0.5317 - accuracy: 0.8147 - val_loss: 0.3803 - val_accuracy: 0.8666 - 10s/epoch - 6ms/step\n",
            "Epoch 2/10\n",
            "1719/1719 - 9s - loss: 0.3949 - accuracy: 0.8583 - val_loss: 0.3431 - val_accuracy: 0.8770 - 9s/epoch - 5ms/step\n",
            "Epoch 3/10\n",
            "1719/1719 - 8s - loss: 0.3588 - accuracy: 0.8710 - val_loss: 0.3378 - val_accuracy: 0.8812 - 8s/epoch - 5ms/step\n",
            "Epoch 4/10\n",
            "1719/1719 - 8s - loss: 0.3266 - accuracy: 0.8820 - val_loss: 0.3201 - val_accuracy: 0.8858 - 8s/epoch - 5ms/step\n",
            "Epoch 5/10\n",
            "1719/1719 - 9s - loss: 0.3075 - accuracy: 0.8878 - val_loss: 0.3115 - val_accuracy: 0.8906 - 9s/epoch - 5ms/step\n",
            "Epoch 6/10\n",
            "1719/1719 - 8s - loss: 0.2887 - accuracy: 0.8957 - val_loss: 0.3104 - val_accuracy: 0.8898 - 8s/epoch - 5ms/step\n",
            "Epoch 7/10\n",
            "1719/1719 - 8s - loss: 0.2755 - accuracy: 0.9012 - val_loss: 0.3090 - val_accuracy: 0.8898 - 8s/epoch - 5ms/step\n",
            "Epoch 8/10\n",
            "1719/1719 - 9s - loss: 0.2629 - accuracy: 0.9040 - val_loss: 0.3032 - val_accuracy: 0.8920 - 9s/epoch - 5ms/step\n",
            "Epoch 9/10\n",
            "1719/1719 - 9s - loss: 0.2517 - accuracy: 0.9082 - val_loss: 0.3045 - val_accuracy: 0.8930 - 9s/epoch - 5ms/step\n",
            "Epoch 10/10\n",
            "1719/1719 - 8s - loss: 0.2418 - accuracy: 0.9107 - val_loss: 0.3032 - val_accuracy: 0.8950 - 8s/epoch - 5ms/step\n",
            "Runtime of the program is 86.61558246612549\n"
          ]
        }
      ]
    },
    {
      "cell_type": "code",
      "source": [],
      "metadata": {
        "id": "MPhCjwe0Tem8"
      },
      "execution_count": null,
      "outputs": []
    }
  ]
}