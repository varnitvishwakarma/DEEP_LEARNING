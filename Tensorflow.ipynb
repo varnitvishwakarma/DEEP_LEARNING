{
  "nbformat": 4,
  "nbformat_minor": 0,
  "metadata": {
    "kernelspec": {
      "display_name": "Python 3",
      "language": "python",
      "name": "python3"
    },
    "language_info": {
      "codemirror_mode": {
        "name": "ipython",
        "version": 3
      },
      "file_extension": ".py",
      "mimetype": "text/x-python",
      "name": "python",
      "nbconvert_exporter": "python",
      "pygments_lexer": "ipython3",
      "version": "3.7.6"
    },
    "colab": {
      "provenance": [],
      "gpuType": "T4",
      "include_colab_link": true
    },
    "accelerator": "GPU",
    "gpuClass": "standard"
  },
  "cells": [
    {
      "cell_type": "markdown",
      "metadata": {
        "id": "view-in-github",
        "colab_type": "text"
      },
      "source": [
        "<a href=\"https://colab.research.google.com/github/varnitvishwakarma/DEEP_LEARNING/blob/main/Tensorflow.ipynb\" target=\"_parent\"><img src=\"https://colab.research.google.com/assets/colab-badge.svg\" alt=\"Open In Colab\"/></a>"
      ]
    },
    {
      "cell_type": "markdown",
      "metadata": {
        "id": "wj5NcfYio6jx"
      },
      "source": [
        "# Tensorflow-2.x\n",
        "\n",
        "<img src=\"https://i.ytimg.com/vi/yjprpOoH5c8/maxresdefault.jpg\" width=\"600\"\n",
        "     height=\"300\">"
      ]
    },
    {
      "cell_type": "markdown",
      "metadata": {
        "id": "zBkUHbMXo6jz"
      },
      "source": [
        "> TensorFlow is an open source software library for high performance numerical computation. Its flexible architecture allows easy deployment of computation across a variety of platforms (CPUs, GPUs, TPUs), and from desktops to clusters of servers to mobile and edge devices.\n",
        "> Originally developed by researchers and engineers from the Google Brain team within Google’s AI organization, it comes with strong support for machine learning and deep learning and the flexible numerical computation core is used across many other scientific domains."
      ]
    },
    {
      "cell_type": "markdown",
      "metadata": {
        "id": "8YsfPPEKo6j0"
      },
      "source": [
        "## Why Tensorflow?"
      ]
    },
    {
      "cell_type": "markdown",
      "metadata": {
        "id": "A47Q3hr0o6j1"
      },
      "source": [
        "\n",
        "<img src=\"https://www.imaginarycloud.com/blog/content/images/2021/04/pytorchvs_cover.png\" width=\"600\"\n",
        "     height=\"300\">\n",
        "\n",
        "\n",
        "\n",
        "TensorFlow is a popular and widely used open-source machine learning framework developed by Google. It offers a range of features and benefits that make it a powerful tool for building and deploying machine learning models. Here are some reasons why TensorFlow is commonly used:\n",
        "\n",
        "- Flexibility: TensorFlow provides a flexible and modular architecture that allows developers to build and customize machine learning models for a wide variety of tasks. It supports both high-level and low-level APIs, giving users the flexibility to work at different levels of abstraction.\n",
        "\n",
        "- Scalability: TensorFlow is designed to handle large-scale machine learning projects. It enables efficient distributed computing across multiple CPUs and GPUs, making it suitable for training models on large datasets.\n",
        "\n",
        "- Wide range of applications: TensorFlow can be used for a diverse range of machine learning tasks, including image and speech recognition, natural language processing, recommendation systems, and more. It supports various neural network architectures, such as convolutional neural networks (CNNs), recurrent neural networks (RNNs), and transformers.\n",
        "\n",
        "- Community and ecosystem: TensorFlow has a large and active community of developers, researchers, and enthusiasts. This community contributes to the development of the framework by sharing code, providing support, and creating libraries and tools that extend TensorFlow's functionality. This vibrant ecosystem makes it easier to find resources, tutorials, and pre-trained models.\n",
        "\n",
        "- Visualization and debugging: TensorFlow includes tools for visualizing and debugging models, which can aid in understanding the behavior of the model during training and inference. It provides built-in support for TensorBoard, a web-based tool for visualizing metrics, model graphs, and other aspects of the training process.\n",
        "\n",
        "- Deployment options: TensorFlow offers multiple deployment options, allowing models to be deployed in a variety of environments. It supports deployment on different platforms, including desktops, servers, mobile devices, and even specialized hardware such as Google's Tensor Processing Units (TPUs).\n",
        "\n",
        "- Integration with other libraries and frameworks: TensorFlow can be easily integrated with other popular libraries and frameworks in the Python ecosystem, such as NumPy, Pandas, and scikit-learn. This enables seamless data manipulation, preprocessing, and post-processing tasks in conjunction with TensorFlow's capabilities.\n",
        "\n",
        "- Continued development and support: TensorFlow is actively developed and maintained by Google and the TensorFlow community. Regular updates and improvements ensure that the framework stays up to date with the latest advancements in machine learning research and industry practices.\n",
        "\n",
        "These are just a few reasons why TensorFlow is a popular choice for machine learning tasks. However, it's worth noting that the choice of framework ultimately depends on the specific requirements and preferences of the user."
      ]
    },
    {
      "cell_type": "markdown",
      "metadata": {
        "id": "DhCzhdcBo6j2"
      },
      "source": [
        "## Installation of Tensorflow"
      ]
    },
    {
      "cell_type": "markdown",
      "metadata": {
        "id": "ZXHTVaH2o6j3"
      },
      "source": [
        ">TensorFlow is tested and supported on the following 64-bit systems:\n",
        "\n",
        ">1.Ubuntu 16.04 or later\n",
        "\n",
        ">2.Windows 7 or later\n",
        "\n",
        ">3.macOS 10.12.6 (Sierra) or later (no GPU support)\n",
        "\n",
        ">4.Raspbian 9.0 or later"
      ]
    },
    {
      "cell_type": "markdown",
      "metadata": {
        "id": "WTk-wTo-o6j4"
      },
      "source": [
        "### For installing latest version of Tensorflow\n",
        "\n",
        "> **pip install tensorflow**\n",
        "\n",
        "> To run from Anaconda Prompt\n",
        "\n",
        "> **!pip install tensorflow**\n",
        "\n",
        "> To run from Jupyter Notebook\n",
        "\n",
        "\n",
        "### For installing a specific version of Tensorflow\n",
        "\n",
        "\n",
        "> **pip install tensorflow==2.x**\n",
        "\n",
        "> To run from Anaconda Prompt\n",
        "\n",
        "> **!pip install tensorflow==2.x**\n",
        "\n",
        "> To run from Jupyter Notebook\n",
        "\n",
        "\n",
        "[Tensorflow Documentation](https://www.tensorflow.org/install)"
      ]
    },
    {
      "cell_type": "code",
      "source": [
        "pip install tensorflow==2.*\n"
      ],
      "metadata": {
        "id": "eJmRT6Okqaqk",
        "outputId": "c2e8c193-bd21-459c-f56d-b92856f4ba43",
        "colab": {
          "base_uri": "https://localhost:8080/"
        }
      },
      "execution_count": 8,
      "outputs": [
        {
          "output_type": "stream",
          "name": "stdout",
          "text": [
            "Requirement already satisfied: tensorflow==2.* in /usr/local/lib/python3.10/dist-packages (2.15.0)\n",
            "Requirement already satisfied: absl-py>=1.0.0 in /usr/local/lib/python3.10/dist-packages (from tensorflow==2.*) (1.4.0)\n",
            "Requirement already satisfied: astunparse>=1.6.0 in /usr/local/lib/python3.10/dist-packages (from tensorflow==2.*) (1.6.3)\n",
            "Requirement already satisfied: flatbuffers>=23.5.26 in /usr/local/lib/python3.10/dist-packages (from tensorflow==2.*) (24.3.25)\n",
            "Requirement already satisfied: gast!=0.5.0,!=0.5.1,!=0.5.2,>=0.2.1 in /usr/local/lib/python3.10/dist-packages (from tensorflow==2.*) (0.5.4)\n",
            "Requirement already satisfied: google-pasta>=0.1.1 in /usr/local/lib/python3.10/dist-packages (from tensorflow==2.*) (0.2.0)\n",
            "Requirement already satisfied: h5py>=2.9.0 in /usr/local/lib/python3.10/dist-packages (from tensorflow==2.*) (3.9.0)\n",
            "Requirement already satisfied: libclang>=13.0.0 in /usr/local/lib/python3.10/dist-packages (from tensorflow==2.*) (18.1.1)\n",
            "Requirement already satisfied: ml-dtypes~=0.2.0 in /usr/local/lib/python3.10/dist-packages (from tensorflow==2.*) (0.2.0)\n",
            "Requirement already satisfied: numpy<2.0.0,>=1.23.5 in /usr/local/lib/python3.10/dist-packages (from tensorflow==2.*) (1.25.2)\n",
            "Requirement already satisfied: opt-einsum>=2.3.2 in /usr/local/lib/python3.10/dist-packages (from tensorflow==2.*) (3.3.0)\n",
            "Requirement already satisfied: packaging in /usr/local/lib/python3.10/dist-packages (from tensorflow==2.*) (24.0)\n",
            "Requirement already satisfied: protobuf!=4.21.0,!=4.21.1,!=4.21.2,!=4.21.3,!=4.21.4,!=4.21.5,<5.0.0dev,>=3.20.3 in /usr/local/lib/python3.10/dist-packages (from tensorflow==2.*) (3.20.3)\n",
            "Requirement already satisfied: setuptools in /usr/local/lib/python3.10/dist-packages (from tensorflow==2.*) (67.7.2)\n",
            "Requirement already satisfied: six>=1.12.0 in /usr/local/lib/python3.10/dist-packages (from tensorflow==2.*) (1.16.0)\n",
            "Requirement already satisfied: termcolor>=1.1.0 in /usr/local/lib/python3.10/dist-packages (from tensorflow==2.*) (2.4.0)\n",
            "Requirement already satisfied: typing-extensions>=3.6.6 in /usr/local/lib/python3.10/dist-packages (from tensorflow==2.*) (4.10.0)\n",
            "Requirement already satisfied: wrapt<1.15,>=1.11.0 in /usr/local/lib/python3.10/dist-packages (from tensorflow==2.*) (1.14.1)\n",
            "Requirement already satisfied: tensorflow-io-gcs-filesystem>=0.23.1 in /usr/local/lib/python3.10/dist-packages (from tensorflow==2.*) (0.36.0)\n",
            "Requirement already satisfied: grpcio<2.0,>=1.24.3 in /usr/local/lib/python3.10/dist-packages (from tensorflow==2.*) (1.62.1)\n",
            "Requirement already satisfied: tensorboard<2.16,>=2.15 in /usr/local/lib/python3.10/dist-packages (from tensorflow==2.*) (2.15.2)\n",
            "Requirement already satisfied: tensorflow-estimator<2.16,>=2.15.0 in /usr/local/lib/python3.10/dist-packages (from tensorflow==2.*) (2.15.0)\n",
            "Requirement already satisfied: keras<2.16,>=2.15.0 in /usr/local/lib/python3.10/dist-packages (from tensorflow==2.*) (2.15.0)\n",
            "Requirement already satisfied: wheel<1.0,>=0.23.0 in /usr/local/lib/python3.10/dist-packages (from astunparse>=1.6.0->tensorflow==2.*) (0.43.0)\n",
            "Requirement already satisfied: google-auth<3,>=1.6.3 in /usr/local/lib/python3.10/dist-packages (from tensorboard<2.16,>=2.15->tensorflow==2.*) (2.27.0)\n",
            "Requirement already satisfied: google-auth-oauthlib<2,>=0.5 in /usr/local/lib/python3.10/dist-packages (from tensorboard<2.16,>=2.15->tensorflow==2.*) (1.2.0)\n",
            "Requirement already satisfied: markdown>=2.6.8 in /usr/local/lib/python3.10/dist-packages (from tensorboard<2.16,>=2.15->tensorflow==2.*) (3.6)\n",
            "Requirement already satisfied: requests<3,>=2.21.0 in /usr/local/lib/python3.10/dist-packages (from tensorboard<2.16,>=2.15->tensorflow==2.*) (2.31.0)\n",
            "Requirement already satisfied: tensorboard-data-server<0.8.0,>=0.7.0 in /usr/local/lib/python3.10/dist-packages (from tensorboard<2.16,>=2.15->tensorflow==2.*) (0.7.2)\n",
            "Requirement already satisfied: werkzeug>=1.0.1 in /usr/local/lib/python3.10/dist-packages (from tensorboard<2.16,>=2.15->tensorflow==2.*) (3.0.1)\n",
            "Requirement already satisfied: cachetools<6.0,>=2.0.0 in /usr/local/lib/python3.10/dist-packages (from google-auth<3,>=1.6.3->tensorboard<2.16,>=2.15->tensorflow==2.*) (5.3.3)\n",
            "Requirement already satisfied: pyasn1-modules>=0.2.1 in /usr/local/lib/python3.10/dist-packages (from google-auth<3,>=1.6.3->tensorboard<2.16,>=2.15->tensorflow==2.*) (0.4.0)\n",
            "Requirement already satisfied: rsa<5,>=3.1.4 in /usr/local/lib/python3.10/dist-packages (from google-auth<3,>=1.6.3->tensorboard<2.16,>=2.15->tensorflow==2.*) (4.9)\n",
            "Requirement already satisfied: requests-oauthlib>=0.7.0 in /usr/local/lib/python3.10/dist-packages (from google-auth-oauthlib<2,>=0.5->tensorboard<2.16,>=2.15->tensorflow==2.*) (1.3.1)\n",
            "Requirement already satisfied: charset-normalizer<4,>=2 in /usr/local/lib/python3.10/dist-packages (from requests<3,>=2.21.0->tensorboard<2.16,>=2.15->tensorflow==2.*) (3.3.2)\n",
            "Requirement already satisfied: idna<4,>=2.5 in /usr/local/lib/python3.10/dist-packages (from requests<3,>=2.21.0->tensorboard<2.16,>=2.15->tensorflow==2.*) (3.6)\n",
            "Requirement already satisfied: urllib3<3,>=1.21.1 in /usr/local/lib/python3.10/dist-packages (from requests<3,>=2.21.0->tensorboard<2.16,>=2.15->tensorflow==2.*) (2.0.7)\n",
            "Requirement already satisfied: certifi>=2017.4.17 in /usr/local/lib/python3.10/dist-packages (from requests<3,>=2.21.0->tensorboard<2.16,>=2.15->tensorflow==2.*) (2024.2.2)\n",
            "Requirement already satisfied: MarkupSafe>=2.1.1 in /usr/local/lib/python3.10/dist-packages (from werkzeug>=1.0.1->tensorboard<2.16,>=2.15->tensorflow==2.*) (2.1.5)\n",
            "Requirement already satisfied: pyasn1<0.7.0,>=0.4.6 in /usr/local/lib/python3.10/dist-packages (from pyasn1-modules>=0.2.1->google-auth<3,>=1.6.3->tensorboard<2.16,>=2.15->tensorflow==2.*) (0.6.0)\n",
            "Requirement already satisfied: oauthlib>=3.0.0 in /usr/local/lib/python3.10/dist-packages (from requests-oauthlib>=0.7.0->google-auth-oauthlib<2,>=0.5->tensorboard<2.16,>=2.15->tensorflow==2.*) (3.2.2)\n"
          ]
        }
      ]
    },
    {
      "cell_type": "markdown",
      "metadata": {
        "id": "VHpEGI2No6j5"
      },
      "source": [
        "`Both Tensorflow 2.0 and Keras have been released for four years (Keras was released in March 2015, and Tensorflow was released in November of the same year). The rapid development of deep learning in the past days, we also know\n",
        "some problems of Tensorflow1.x and Keras:`\n",
        "\n",
        "* Using Tensorflow means programming static graphs, which is difficult and inconvenient for programs that are familiar with imperative programming\n",
        "* Tensorflow api is powerful and flexible, but it is more complex, confusing and difficult to use.\n",
        "* Keras api is productive and easy to use, but lacks flexibility for research\n"
      ]
    },
    {
      "cell_type": "markdown",
      "metadata": {
        "id": "I4AHzdyto6j6"
      },
      "source": [
        "#### Version Check"
      ]
    },
    {
      "cell_type": "code",
      "metadata": {
        "id": "7Ofswai0o6j7",
        "outputId": "f831aca5-3575-4eee-ee87-f73462925a2b",
        "colab": {
          "base_uri": "https://localhost:8080/"
        }
      },
      "source": [
        "import tensorflow as tf\n",
        "\n",
        "print(\"TensorFlow version:\", tf.__version__)\n",
        "print(\"Eager execution is:\", tf.executing_eagerly())\n",
        "\n",
        "\n"
      ],
      "execution_count": 14,
      "outputs": [
        {
          "output_type": "stream",
          "name": "stdout",
          "text": [
            "TensorFlow version: 2.15.0\n",
            "Eager execution is: True\n"
          ]
        }
      ]
    },
    {
      "cell_type": "markdown",
      "metadata": {
        "id": "P2L-zduRo6kC"
      },
      "source": [
        "`Tensorflow2.0 is a combination design of Tensorflow1.x and Keras. Considering user feedback and framework development over the past four years, it largely solves the above problems and will become the future machine learning platform.`\n",
        "\n",
        "> Tensorflow 2.0 is built on the following core ideas:\n",
        "\n",
        "\n",
        "* The coding is more pythonic, so that users can get the results immediately like they are programming in numpy\n",
        "* Retaining the characteristics of static graphs (for performance, distributed, and production deployment), this makes TensorFlow fast, scalable, and ready for production.\n",
        "* Using Keras as a high-level API for deep learning, making Tensorflow easy to use and efficient\n",
        "* Make the entire framework both high-level features (easy to use, efficient, and not flexible) and low-level features (powerful and scalable, not easy to use, but very flexible)"
      ]
    },
    {
      "cell_type": "markdown",
      "metadata": {
        "id": "gLhVSdOYo6kC"
      },
      "source": [
        ">Eager execution is the default in TensorFlow 2 and, as such, needs no special setup.\n",
        ">The following code can be used to find out whether a CPU or GPU is in use and if it's a GPU, whether that GPU is #0.\n"
      ]
    },
    {
      "cell_type": "markdown",
      "metadata": {
        "id": "vtVNwFRBo6kD"
      },
      "source": [
        "### GPU/CPU Check"
      ]
    },
    {
      "cell_type": "code",
      "metadata": {
        "scrolled": true,
        "id": "33d8wy0qo6kE",
        "outputId": "661c0701-5dcc-4ad8-8367-f67f08ac06be",
        "colab": {
          "base_uri": "https://localhost:8080/"
        }
      },
      "source": [
        "if tf.test.is_gpu_available():\n",
        "    print('Running on GPU')\n",
        "else:\n",
        "    print('Running on CPU')"
      ],
      "execution_count": 4,
      "outputs": [
        {
          "output_type": "stream",
          "name": "stderr",
          "text": [
            "WARNING:tensorflow:From <ipython-input-4-16ea5becd632>:1: is_gpu_available (from tensorflow.python.framework.test_util) is deprecated and will be removed in a future version.\n",
            "Instructions for updating:\n",
            "Use `tf.config.list_physical_devices('GPU')` instead.\n"
          ]
        },
        {
          "output_type": "stream",
          "name": "stdout",
          "text": [
            "Running on GPU\n"
          ]
        }
      ]
    },
    {
      "cell_type": "code",
      "metadata": {
        "id": "__k9j3fto6kI",
        "outputId": "7f07338f-9085-4dce-db1e-e6959d78d3c2",
        "colab": {
          "base_uri": "https://localhost:8080/"
        }
      },
      "source": [
        "tf.config.list_physical_devices('CPU')"
      ],
      "execution_count": 15,
      "outputs": [
        {
          "output_type": "execute_result",
          "data": {
            "text/plain": [
              "[PhysicalDevice(name='/physical_device:CPU:0', device_type='CPU')]"
            ]
          },
          "metadata": {},
          "execution_count": 15
        }
      ]
    },
    {
      "cell_type": "code",
      "metadata": {
        "id": "z-gyqu4Do6kM",
        "outputId": "81aaf6aa-3035-4686-8d5a-0260c76e1663",
        "colab": {
          "base_uri": "https://localhost:8080/"
        }
      },
      "source": [
        "tf.config.list_physical_devices('GPU')"
      ],
      "execution_count": 16,
      "outputs": [
        {
          "output_type": "execute_result",
          "data": {
            "text/plain": [
              "[PhysicalDevice(name='/physical_device:GPU:0', device_type='GPU')]"
            ]
          },
          "metadata": {},
          "execution_count": 16
        }
      ]
    },
    {
      "cell_type": "markdown",
      "metadata": {
        "id": "BATf98QOo6kV"
      },
      "source": [
        "### Tensor Constant"
      ]
    },
    {
      "cell_type": "code",
      "metadata": {
        "id": "I5KQX6jwo6kY",
        "outputId": "fb73e806-7a45-4ea2-b768-f12ed717d936",
        "colab": {
          "base_uri": "https://localhost:8080/"
        }
      },
      "source": [
        "ineuron = tf.constant(42)\n",
        "ineuron"
      ],
      "execution_count": 17,
      "outputs": [
        {
          "output_type": "execute_result",
          "data": {
            "text/plain": [
              "<tf.Tensor: shape=(), dtype=int32, numpy=42>"
            ]
          },
          "metadata": {},
          "execution_count": 17
        }
      ]
    },
    {
      "cell_type": "code",
      "metadata": {
        "id": "I0aysDFSo6kf",
        "outputId": "7cea6704-d227-43c4-df7c-7a7702dde16a",
        "colab": {
          "base_uri": "https://localhost:8080/"
        }
      },
      "source": [
        "ineuron.numpy()"
      ],
      "execution_count": 18,
      "outputs": [
        {
          "output_type": "execute_result",
          "data": {
            "text/plain": [
              "42"
            ]
          },
          "metadata": {},
          "execution_count": 18
        }
      ]
    },
    {
      "cell_type": "code",
      "metadata": {
        "id": "U7Zu1JwTo6ki",
        "outputId": "8b3ddd73-f1ea-435e-9070-784ead13f6a8",
        "colab": {
          "base_uri": "https://localhost:8080/"
        }
      },
      "source": [
        "ineuron1 = tf.constant(1, dtype = tf.int64)\n",
        "ineuron1"
      ],
      "execution_count": 19,
      "outputs": [
        {
          "output_type": "execute_result",
          "data": {
            "text/plain": [
              "<tf.Tensor: shape=(), dtype=int64, numpy=1>"
            ]
          },
          "metadata": {},
          "execution_count": 19
        }
      ]
    },
    {
      "cell_type": "code",
      "metadata": {
        "id": "jxjR2bsro6kl",
        "outputId": "2756f3c8-ef94-4260-9efd-5b4695f8bd4c",
        "colab": {
          "base_uri": "https://localhost:8080/"
        }
      },
      "source": [
        "ineuron_x = tf.constant([[4,2],[9,5]])\n",
        "print(ineuron_x)"
      ],
      "execution_count": 20,
      "outputs": [
        {
          "output_type": "stream",
          "name": "stdout",
          "text": [
            "tf.Tensor(\n",
            "[[4 2]\n",
            " [9 5]], shape=(2, 2), dtype=int32)\n"
          ]
        }
      ]
    },
    {
      "cell_type": "code",
      "metadata": {
        "id": "xl5lq0R4o6kp",
        "outputId": "2695d184-a4ba-4263-a8b4-6c96564495d2",
        "colab": {
          "base_uri": "https://localhost:8080/"
        }
      },
      "source": [
        "ineuron_x.numpy()"
      ],
      "execution_count": 21,
      "outputs": [
        {
          "output_type": "execute_result",
          "data": {
            "text/plain": [
              "array([[4, 2],\n",
              "       [9, 5]], dtype=int32)"
            ]
          },
          "metadata": {},
          "execution_count": 21
        }
      ]
    },
    {
      "cell_type": "code",
      "metadata": {
        "id": "k4mHx-xko6kx",
        "outputId": "0a24a3f5-e380-4376-82ac-1ff883460757",
        "colab": {
          "base_uri": "https://localhost:8080/"
        }
      },
      "source": [
        "print('shape:',ineuron_x.shape)\n",
        "print(ineuron_x.dtype)"
      ],
      "execution_count": 22,
      "outputs": [
        {
          "output_type": "stream",
          "name": "stdout",
          "text": [
            "shape: (2, 2)\n",
            "<dtype: 'int32'>\n"
          ]
        }
      ]
    },
    {
      "cell_type": "markdown",
      "metadata": {
        "id": "SSoA-E_Wo6k0"
      },
      "source": [
        "#### Commonly used method is to generate constant tf.ones and the tf.zeros like of numpy np.ones & np.zeros"
      ]
    },
    {
      "cell_type": "code",
      "metadata": {
        "id": "K2LrUAAOo6k1",
        "outputId": "d873ad20-8271-45ea-fabf-9ab2189ba891",
        "colab": {
          "base_uri": "https://localhost:8080/"
        }
      },
      "source": [
        "print(tf.ones(shape=(2,3)))"
      ],
      "execution_count": 23,
      "outputs": [
        {
          "output_type": "stream",
          "name": "stdout",
          "text": [
            "tf.Tensor(\n",
            "[[1. 1. 1.]\n",
            " [1. 1. 1.]], shape=(2, 3), dtype=float32)\n"
          ]
        }
      ]
    },
    {
      "cell_type": "code",
      "metadata": {
        "id": "skUuY3nPo6lE",
        "outputId": "a0f6d7c3-166b-4528-ec8f-00c30d0c7d2f",
        "colab": {
          "base_uri": "https://localhost:8080/"
        }
      },
      "source": [
        "print(tf.zeros(shape=(3,2)))"
      ],
      "execution_count": 24,
      "outputs": [
        {
          "output_type": "stream",
          "name": "stdout",
          "text": [
            "tf.Tensor(\n",
            "[[0. 0.]\n",
            " [0. 0.]\n",
            " [0. 0.]], shape=(3, 2), dtype=float32)\n"
          ]
        }
      ]
    },
    {
      "cell_type": "code",
      "metadata": {
        "id": "2uSrMwmLo6lN",
        "outputId": "cd3f4e4c-65e7-4d71-b7fc-26a55a4494f3",
        "colab": {
          "base_uri": "https://localhost:8080/"
        }
      },
      "source": [
        "import tensorflow as tf\n",
        "\n",
        "const2 = tf.constant([[3,4,5], [3,4,5]])\n",
        "const1 = tf.constant([[1,2,3], [1,2,3]])\n",
        "result = tf.add(const1, const2)\n",
        "\n",
        "print(result)"
      ],
      "execution_count": 25,
      "outputs": [
        {
          "output_type": "stream",
          "name": "stdout",
          "text": [
            "tf.Tensor(\n",
            "[[4 6 8]\n",
            " [4 6 8]], shape=(2, 3), dtype=int32)\n"
          ]
        }
      ]
    },
    {
      "cell_type": "markdown",
      "metadata": {
        "id": "oIVzyT_so6lR"
      },
      "source": [
        ">We have defined two constants and we add one value to the other.\n",
        ">As a result, we got a Tensor object with the result of the adding."
      ]
    },
    {
      "cell_type": "markdown",
      "metadata": {
        "id": "A6SYhN59o6lS"
      },
      "source": [
        "#### Random constant"
      ]
    },
    {
      "cell_type": "code",
      "metadata": {
        "id": "51uGW1Ebo6lT",
        "outputId": "5c9d1dec-1491-44f1-d2fb-2991be0d06ed",
        "colab": {
          "base_uri": "https://localhost:8080/"
        }
      },
      "source": [
        "tf.random.normal(shape=(2,2),mean=0,stddev=1.0)"
      ],
      "execution_count": 26,
      "outputs": [
        {
          "output_type": "execute_result",
          "data": {
            "text/plain": [
              "<tf.Tensor: shape=(2, 2), dtype=float32, numpy=\n",
              "array([[-0.40431273,  0.7021761 ],\n",
              "       [-0.56240827,  1.2220509 ]], dtype=float32)>"
            ]
          },
          "metadata": {},
          "execution_count": 26
        }
      ]
    },
    {
      "cell_type": "code",
      "metadata": {
        "id": "eWpjuF8co6l1",
        "outputId": "d952f8ad-d2d2-4895-896e-6f9b9e55b91c",
        "colab": {
          "base_uri": "https://localhost:8080/"
        }
      },
      "source": [
        "tf.random.uniform(shape=(2,2),minval=0,maxval=10,dtype=tf.int32)"
      ],
      "execution_count": 27,
      "outputs": [
        {
          "output_type": "execute_result",
          "data": {
            "text/plain": [
              "<tf.Tensor: shape=(2, 2), dtype=int32, numpy=\n",
              "array([[4, 7],\n",
              "       [2, 2]], dtype=int32)>"
            ]
          },
          "metadata": {},
          "execution_count": 27
        }
      ]
    },
    {
      "cell_type": "markdown",
      "metadata": {
        "id": "8b8UTNQMo6l_"
      },
      "source": [
        "### Variables"
      ]
    },
    {
      "cell_type": "markdown",
      "metadata": {
        "id": "x3uqOHkgo6l_"
      },
      "source": [
        ">A variable is a special tensor that is used to store variable values ​​and needs to be initialized with some values"
      ]
    },
    {
      "cell_type": "markdown",
      "metadata": {
        "id": "dya1IJlZo6mA"
      },
      "source": [
        "#### Declaring variables"
      ]
    },
    {
      "cell_type": "code",
      "metadata": {
        "id": "2nyoFHjko6mA",
        "outputId": "ed63a76f-0f0c-471c-98bb-8082253af461",
        "colab": {
          "base_uri": "https://localhost:8080/"
        }
      },
      "source": [
        "var0 = 24 # python variable\n",
        "var1 = tf.Variable(42) # rank 0 tensor\n",
        "var2 = tf.Variable([ [ [0., 1., 2.], [3., 4., 5.] ], [ [6., 7., 8.], [9., 10., 11.] ] ]) #rank 3 tensor\n",
        "var0, var1, var2"
      ],
      "execution_count": 28,
      "outputs": [
        {
          "output_type": "execute_result",
          "data": {
            "text/plain": [
              "(24,\n",
              " <tf.Variable 'Variable:0' shape=() dtype=int32, numpy=42>,\n",
              " <tf.Variable 'Variable:0' shape=(2, 2, 3) dtype=float32, numpy=\n",
              " array([[[ 0.,  1.,  2.],\n",
              "         [ 3.,  4.,  5.]],\n",
              " \n",
              "        [[ 6.,  7.,  8.],\n",
              "         [ 9., 10., 11.]]], dtype=float32)>)"
            ]
          },
          "metadata": {},
          "execution_count": 28
        }
      ]
    },
    {
      "cell_type": "markdown",
      "metadata": {
        "id": "pJMoPBBUo6mE"
      },
      "source": [
        ">TensorFlow will infer the datatype, defaulting to tf.float32 for floats and tf.int32 for integers"
      ]
    },
    {
      "cell_type": "markdown",
      "metadata": {
        "id": "0ArkIQOFo6mF"
      },
      "source": [
        "#### The datatype can be explicitly specified"
      ]
    },
    {
      "cell_type": "code",
      "metadata": {
        "id": "zU0WznZ8o6mH",
        "outputId": "e8b0b17d-cf9c-41b7-c3bb-18e701efed43",
        "colab": {
          "base_uri": "https://localhost:8080/"
        }
      },
      "source": [
        "float_var64 = tf.Variable(89, dtype = tf.float64)\n",
        "float_var64.dtype"
      ],
      "execution_count": 29,
      "outputs": [
        {
          "output_type": "execute_result",
          "data": {
            "text/plain": [
              "tf.float64"
            ]
          },
          "metadata": {},
          "execution_count": 29
        }
      ]
    },
    {
      "cell_type": "markdown",
      "metadata": {
        "id": "9eaa5NI7o6mL"
      },
      "source": [
        "`TensorFlow has a large number of built-in datatypes.`\n",
        "\n",
        "datatype | description\n",
        "- | -\n",
        " tf.float16 | 16-bit half-precision floating-point.\n",
        " tf.float32 | 32-bit single-precision floating-point.\n",
        " tf.float64 | 64-bit double-precision floating-point.\n",
        " tf.bfloat16 | 16-bit truncated floating-point.\n",
        " tf.complex64 | 64-bit single-precision complex.\n",
        " tf.complex128 | 128-bit double-precision complex.\n",
        " tf.int8 | 8-bit signed integer.\n",
        " tf.uint8 | 8-bit unsigned integer.\n",
        " tf.uint16 | 16-bit unsigned integer.\n",
        " tf.uint32 | 32-bit unsigned integer.\n",
        " tf.uint64 | 64-bit unsigned integer.\n",
        " tf.int16 | 16-bit signed integer.\n",
        " tf.int32 | 32-bit signed integer.\n",
        " tf.int64 | 64-bit signed integer.\n",
        " tf.bool | Boolean.\n",
        " tf.string | String.\n",
        " tf.qint8 | Quantized 8-bit signed integer.\n",
        " tf.quint8 | Quantized 8-bit unsigned integer.\n",
        " tf.qint16 | Quantized 16-bit signed integer.\n",
        " tf.quint16 | Quantized 16-bit unsigned integer.\n",
        " tf.qint32 | Quantized 32-bit signed integer.\n",
        " tf.resource | Handle to a mutable resource.\n",
        " tf.variant | Values of arbitrary types.\n"
      ]
    },
    {
      "cell_type": "markdown",
      "metadata": {
        "id": "ahjlKCGbo6mL"
      },
      "source": [
        "#### To reassign a variable, use var.assign()"
      ]
    },
    {
      "cell_type": "code",
      "metadata": {
        "id": "O0UBJk1jo6mM",
        "outputId": "5ea22e53-109e-496c-85fe-c31e352781b6",
        "colab": {
          "base_uri": "https://localhost:8080/"
        }
      },
      "source": [
        "var_reassign = tf.Variable(89.)\n",
        "var_reassign"
      ],
      "execution_count": 30,
      "outputs": [
        {
          "output_type": "execute_result",
          "data": {
            "text/plain": [
              "<tf.Variable 'Variable:0' shape=() dtype=float32, numpy=89.0>"
            ]
          },
          "metadata": {},
          "execution_count": 30
        }
      ]
    },
    {
      "cell_type": "code",
      "metadata": {
        "id": "muEfqqppo6mP",
        "outputId": "49e1bf9e-a068-4cbe-b5d5-a9c106647ffc",
        "colab": {
          "base_uri": "https://localhost:8080/"
        }
      },
      "source": [
        "var_reassign.assign(98.)\n",
        "var_reassign"
      ],
      "execution_count": null,
      "outputs": [
        {
          "output_type": "execute_result",
          "data": {
            "text/plain": [
              "<tf.Variable 'Variable:0' shape=() dtype=float32, numpy=98.0>"
            ]
          },
          "metadata": {},
          "execution_count": 22
        }
      ]
    },
    {
      "cell_type": "code",
      "metadata": {
        "id": "JtjYtaqOo6mX",
        "outputId": "17004daa-a4a4-45d2-ea04-f2fc2cc56d69",
        "colab": {
          "base_uri": "https://localhost:8080/"
        }
      },
      "source": [
        "initial_value = tf.random.normal(shape=(2,2))\n",
        "a = tf.Variable(initial_value)\n",
        "print(a)"
      ],
      "execution_count": 31,
      "outputs": [
        {
          "output_type": "stream",
          "name": "stdout",
          "text": [
            "<tf.Variable 'Variable:0' shape=(2, 2) dtype=float32, numpy=\n",
            "array([[-0.55449593,  0.6418286 ],\n",
            "       [-0.6539895 , -0.21202779]], dtype=float32)>\n"
          ]
        }
      ]
    },
    {
      "cell_type": "markdown",
      "metadata": {
        "id": "lmh4YqXfo6md"
      },
      "source": [
        ">We can assign \"=\" with assign (value), or assign_add (value) with \"+ =\", or assign_sub (value) with \"-=\""
      ]
    },
    {
      "cell_type": "code",
      "metadata": {
        "id": "ILD0iFJFo6me"
      },
      "source": [
        "new_value = tf.random.normal(shape=(2, 2))\n",
        "a.assign(new_value)\n",
        "for i in range(2):\n",
        "    for j in range(2):\n",
        "        assert a[i, j] == new_value[i, j]"
      ],
      "execution_count": 32,
      "outputs": []
    },
    {
      "cell_type": "code",
      "metadata": {
        "id": "HE6oNyQ0o6mi"
      },
      "source": [
        "added_value = tf.random.normal(shape=(2,2))\n",
        "a.assign_add(added_value)\n",
        "for i in range(2):\n",
        "    for j in range(2):\n",
        "        assert a[i,j] == new_value[i,j]+added_value[i,j]"
      ],
      "execution_count": 33,
      "outputs": []
    },
    {
      "cell_type": "markdown",
      "metadata": {
        "id": "Ep28eoPqo6ml"
      },
      "source": [
        "#### Shaping a tensor"
      ]
    },
    {
      "cell_type": "code",
      "metadata": {
        "id": "pwoBmXs2o6mm",
        "outputId": "a6410ff3-f558-4bae-bb0f-b148e8f57eba",
        "colab": {
          "base_uri": "https://localhost:8080/"
        }
      },
      "source": [
        "tensor = tf.Variable([ [ [0., 1., 2.], [3., 4., 5.] ], [ [6., 7., 8.], [9., 10., 11.] ] ]) # tensor variable\n",
        "print(tensor.shape)"
      ],
      "execution_count": 34,
      "outputs": [
        {
          "output_type": "stream",
          "name": "stdout",
          "text": [
            "(2, 2, 3)\n"
          ]
        }
      ]
    },
    {
      "cell_type": "markdown",
      "metadata": {
        "id": "Hlwshsu0o6mt"
      },
      "source": [
        "#### Tensors may be reshaped and retain the same values, as is often required for constructing neural networks.\n"
      ]
    },
    {
      "cell_type": "code",
      "metadata": {
        "id": "qw6jdTUUo6mv",
        "outputId": "ce7758bd-5419-4047-81c5-9c884c8d9ff4",
        "colab": {
          "base_uri": "https://localhost:8080/"
        }
      },
      "source": [
        "tensor1 = tf.reshape(tensor,[2,6]) # 2 rows 6 cols\n",
        "tensor2 = tf.reshape(tensor,[1,12]) # 1 rows 12 cols\n",
        "tensor1"
      ],
      "execution_count": 35,
      "outputs": [
        {
          "output_type": "execute_result",
          "data": {
            "text/plain": [
              "<tf.Tensor: shape=(2, 6), dtype=float32, numpy=\n",
              "array([[ 0.,  1.,  2.,  3.,  4.,  5.],\n",
              "       [ 6.,  7.,  8.,  9., 10., 11.]], dtype=float32)>"
            ]
          },
          "metadata": {},
          "execution_count": 35
        }
      ]
    },
    {
      "cell_type": "code",
      "metadata": {
        "id": "95o_Zd2uo6m1",
        "outputId": "ddf98278-8f84-4d5a-c6fe-9a751e47e929",
        "colab": {
          "base_uri": "https://localhost:8080/"
        }
      },
      "source": [
        "tensor2 = tf.reshape(tensor,[1,12]) # 1 row 12 columns\n",
        "tensor2"
      ],
      "execution_count": 36,
      "outputs": [
        {
          "output_type": "execute_result",
          "data": {
            "text/plain": [
              "<tf.Tensor: shape=(1, 12), dtype=float32, numpy=\n",
              "array([[ 0.,  1.,  2.,  3.,  4.,  5.,  6.,  7.,  8.,  9., 10., 11.]],\n",
              "      dtype=float32)>"
            ]
          },
          "metadata": {},
          "execution_count": 36
        }
      ]
    },
    {
      "cell_type": "markdown",
      "metadata": {
        "id": "J4BqtvoQo6m5"
      },
      "source": [
        "### Ranking (dimensions) of a tensor"
      ]
    },
    {
      "cell_type": "markdown",
      "metadata": {
        "id": "eDbyCKzDo6m6"
      },
      "source": [
        ">The rank of a tensor is the number of dimensions it has, that is, the number of indices that are required to specify any particular element of that tensor."
      ]
    },
    {
      "cell_type": "code",
      "metadata": {
        "id": "QUWZuo0Qo6m7",
        "outputId": "29b074b5-52db-487f-a360-9d8f68cadac0",
        "colab": {
          "base_uri": "https://localhost:8080/"
        }
      },
      "source": [
        "tf.rank(tensor)"
      ],
      "execution_count": 37,
      "outputs": [
        {
          "output_type": "execute_result",
          "data": {
            "text/plain": [
              "<tf.Tensor: shape=(), dtype=int32, numpy=3>"
            ]
          },
          "metadata": {},
          "execution_count": 37
        }
      ]
    },
    {
      "cell_type": "code",
      "source": [
        "tensor"
      ],
      "metadata": {
        "id": "tZLh1IP7tvb-",
        "outputId": "0303661d-f537-45af-de51-cd9dd77e1989",
        "colab": {
          "base_uri": "https://localhost:8080/"
        }
      },
      "execution_count": 39,
      "outputs": [
        {
          "output_type": "execute_result",
          "data": {
            "text/plain": [
              "<tf.Variable 'Variable:0' shape=(2, 2, 3) dtype=float32, numpy=\n",
              "array([[[ 0.,  1.,  2.],\n",
              "        [ 3.,  4.,  5.]],\n",
              "\n",
              "       [[ 6.,  7.,  8.],\n",
              "        [ 9., 10., 11.]]], dtype=float32)>"
            ]
          },
          "metadata": {},
          "execution_count": 39
        }
      ]
    },
    {
      "cell_type": "markdown",
      "metadata": {
        "id": "i2XwSyMwo6nB"
      },
      "source": [
        ">(the shape is () because the output here is a scalar value)"
      ]
    },
    {
      "cell_type": "markdown",
      "metadata": {
        "id": "Z17NN2Ydo6nB"
      },
      "source": [
        "#### Specifying an element of a tensor"
      ]
    },
    {
      "cell_type": "code",
      "metadata": {
        "id": "WZ3iE66do6nC",
        "outputId": "9ee40de6-f9ac-48a5-b022-759aef251bfc",
        "colab": {
          "base_uri": "https://localhost:8080/"
        }
      },
      "source": [
        "tensor3 = tensor[1, 0, 2] # slice 1, row 0, column 2\n",
        "tensor3"
      ],
      "execution_count": 43,
      "outputs": [
        {
          "output_type": "execute_result",
          "data": {
            "text/plain": [
              "<tf.Tensor: shape=(), dtype=float32, numpy=8.0>"
            ]
          },
          "metadata": {},
          "execution_count": 43
        }
      ]
    },
    {
      "cell_type": "markdown",
      "metadata": {
        "id": "pt1-bNNoo6nE"
      },
      "source": [
        "#### Casting a tensor to a NumPy/Python variable"
      ]
    },
    {
      "cell_type": "code",
      "metadata": {
        "id": "nf-4wqIDo6nF",
        "outputId": "213dac93-2103-460a-c3b3-5a065a209608",
        "colab": {
          "base_uri": "https://localhost:8080/"
        }
      },
      "source": [
        "print(tensor.numpy())"
      ],
      "execution_count": 44,
      "outputs": [
        {
          "output_type": "stream",
          "name": "stdout",
          "text": [
            "[[[ 0.  1.  2.]\n",
            "  [ 3.  4.  5.]]\n",
            "\n",
            " [[ 6.  7.  8.]\n",
            "  [ 9. 10. 11.]]]\n"
          ]
        }
      ]
    },
    {
      "cell_type": "code",
      "metadata": {
        "id": "4BAMBEhBo6nH",
        "outputId": "718d7343-9faf-4714-fbc5-9e0aa1e74dc8",
        "colab": {
          "base_uri": "https://localhost:8080/"
        }
      },
      "source": [
        "print(tensor[1, 0, 2].numpy())"
      ],
      "execution_count": 46,
      "outputs": [
        {
          "output_type": "stream",
          "name": "stdout",
          "text": [
            "8.0\n"
          ]
        }
      ]
    },
    {
      "cell_type": "markdown",
      "metadata": {
        "id": "ibmUB8KDo6nK"
      },
      "source": [
        "#### Finding the size (number of elements) of a tensor"
      ]
    },
    {
      "cell_type": "code",
      "metadata": {
        "id": "3pzO6SJXo6nK",
        "outputId": "6899af4f-738c-4bc5-b229-703217cb40be",
        "colab": {
          "base_uri": "https://localhost:8080/"
        }
      },
      "source": [
        "tensor_size = tf.size(input=tensor).numpy()\n",
        "tensor_size"
      ],
      "execution_count": 47,
      "outputs": [
        {
          "output_type": "execute_result",
          "data": {
            "text/plain": [
              "12"
            ]
          },
          "metadata": {},
          "execution_count": 47
        }
      ]
    },
    {
      "cell_type": "code",
      "source": [
        "tf.size(input=tensor)"
      ],
      "metadata": {
        "id": "p9tGJmXFuST2",
        "outputId": "7592fe20-2c90-4d98-c801-fd29562f7e1e",
        "colab": {
          "base_uri": "https://localhost:8080/"
        }
      },
      "execution_count": 48,
      "outputs": [
        {
          "output_type": "execute_result",
          "data": {
            "text/plain": [
              "<tf.Tensor: shape=(), dtype=int32, numpy=12>"
            ]
          },
          "metadata": {},
          "execution_count": 48
        }
      ]
    },
    {
      "cell_type": "code",
      "metadata": {
        "id": "1kxI6HVio6nO",
        "outputId": "c06e3060-9a44-4220-e17f-0102c4a3320e",
        "colab": {
          "base_uri": "https://localhost:8080/"
        }
      },
      "source": [
        "#the datatype of a tensor\n",
        "tensor3.dtype"
      ],
      "execution_count": 49,
      "outputs": [
        {
          "output_type": "execute_result",
          "data": {
            "text/plain": [
              "tf.float32"
            ]
          },
          "metadata": {},
          "execution_count": 49
        }
      ]
    },
    {
      "cell_type": "markdown",
      "metadata": {
        "id": "fMwV8eiNo6nR"
      },
      "source": [
        "### Tensorflow mathematical operations\n",
        ">Can be used as numpy for artificial operations. Tensorflow can not execute these operations on the GPU or TPU.\n"
      ]
    },
    {
      "cell_type": "code",
      "metadata": {
        "id": "ot2cJT36o6nR",
        "outputId": "a3954b36-4bc4-4d5e-b99f-645683e066c0",
        "colab": {
          "base_uri": "https://localhost:8080/"
        }
      },
      "source": [
        "a = tf.random.normal(shape=(2,2))\n",
        "b = tf.random.normal(shape=(2,2))\n",
        "c = a+b\n",
        "d = tf.square(c)\n",
        "e = tf.exp(c)\n",
        "print(a)\n",
        "print(b)\n",
        "print(c)\n",
        "print(d)\n",
        "print(e)"
      ],
      "execution_count": 51,
      "outputs": [
        {
          "output_type": "stream",
          "name": "stdout",
          "text": [
            "tf.Tensor(\n",
            "[[ 0.41874337  0.27372056]\n",
            " [ 0.357146   -0.00968295]], shape=(2, 2), dtype=float32)\n",
            "tf.Tensor(\n",
            "[[ 0.9840938  -0.5898872 ]\n",
            " [-0.45153752  0.36762562]], shape=(2, 2), dtype=float32)\n",
            "tf.Tensor(\n",
            "[[ 1.4028372  -0.31616664]\n",
            " [-0.09439152  0.35794267]], shape=(2, 2), dtype=float32)\n",
            "tf.Tensor(\n",
            "[[1.9679521  0.09996134]\n",
            " [0.00890976 0.12812296]], shape=(2, 2), dtype=float32)\n",
            "tf.Tensor(\n",
            "[[4.0667214 0.728938 ]\n",
            " [0.9099264 1.4303837]], shape=(2, 2), dtype=float32)\n"
          ]
        }
      ]
    },
    {
      "cell_type": "code",
      "source": [
        "tf.random.normal(shape=(2,2))"
      ],
      "metadata": {
        "id": "oXFeoo1cvSz4",
        "outputId": "24eea238-3a78-4df2-ba75-ce9f3c46b89b",
        "colab": {
          "base_uri": "https://localhost:8080/"
        }
      },
      "execution_count": 54,
      "outputs": [
        {
          "output_type": "execute_result",
          "data": {
            "text/plain": [
              "<tf.Tensor: shape=(2, 2), dtype=float32, numpy=\n",
              "array([[-1.2520279 ,  1.4634076 ],\n",
              "       [ 0.92056656, -0.3170443 ]], dtype=float32)>"
            ]
          },
          "metadata": {},
          "execution_count": 54
        }
      ]
    },
    {
      "cell_type": "markdown",
      "metadata": {
        "id": "_r8z7Wbio6nV"
      },
      "source": [
        "### Performing element-wise primitive tensor operations"
      ]
    },
    {
      "cell_type": "code",
      "metadata": {
        "id": "fBk1KI0Oo6nW",
        "outputId": "6498febc-edaf-4783-af70-b727aebbc0e1",
        "colab": {
          "base_uri": "https://localhost:8080/"
        }
      },
      "source": [
        "tensor*tensor"
      ],
      "execution_count": 56,
      "outputs": [
        {
          "output_type": "execute_result",
          "data": {
            "text/plain": [
              "<tf.Tensor: shape=(2, 2, 3), dtype=float32, numpy=\n",
              "array([[[  0.,   1.,   4.],\n",
              "        [  9.,  16.,  25.]],\n",
              "\n",
              "       [[ 36.,  49.,  64.],\n",
              "        [ 81., 100., 121.]]], dtype=float32)>"
            ]
          },
          "metadata": {},
          "execution_count": 56
        }
      ]
    },
    {
      "cell_type": "markdown",
      "metadata": {
        "id": "YRUWm7YIo6na"
      },
      "source": [
        "### Broadcasting\n",
        ">Element-wise tensor operations support broadcasting in the same way that NumPy arrays do.\n",
        "\n",
        ">The simplest example is that of multiplying a tensor by a scalar:"
      ]
    },
    {
      "cell_type": "code",
      "metadata": {
        "id": "8QIOZ2IMo6nb",
        "outputId": "5ae1f738-ec7a-4fd0-d58d-e04cb1aa3f4e",
        "colab": {
          "base_uri": "https://localhost:8080/"
        }
      },
      "source": [
        "tensor4 = tensor*4\n",
        "print(tensor4)"
      ],
      "execution_count": 57,
      "outputs": [
        {
          "output_type": "stream",
          "name": "stdout",
          "text": [
            "tf.Tensor(\n",
            "[[[ 0.  4.  8.]\n",
            "  [12. 16. 20.]]\n",
            "\n",
            " [[24. 28. 32.]\n",
            "  [36. 40. 44.]]], shape=(2, 2, 3), dtype=float32)\n"
          ]
        }
      ]
    },
    {
      "cell_type": "markdown",
      "metadata": {
        "id": "2xTpIwswo6nh"
      },
      "source": [
        ">the scalar multiplier 4 is—conceptually, at least—expanded into an array that can be multiplied element-wise with t2."
      ]
    },
    {
      "cell_type": "markdown",
      "metadata": {
        "id": "iVhv795co6nk"
      },
      "source": [
        "### Transpose Matrix multiplication"
      ]
    },
    {
      "cell_type": "code",
      "metadata": {
        "id": "f6guVJ3uo6nl",
        "outputId": "646804b4-4639-44b4-d572-b2acb7889b8d",
        "colab": {
          "base_uri": "https://localhost:8080/"
        }
      },
      "source": [
        "matrix_u = tf.constant([[3,4,3]])\n",
        "matrix_v = tf.constant([[1,2,1]])\n",
        "\n",
        "tf.matmul(matrix_u, tf.transpose(a=matrix_v))"
      ],
      "execution_count": 64,
      "outputs": [
        {
          "output_type": "execute_result",
          "data": {
            "text/plain": [
              "<tf.Tensor: shape=(1, 1), dtype=int32, numpy=array([[14]], dtype=int32)>"
            ]
          },
          "metadata": {},
          "execution_count": 64
        }
      ]
    },
    {
      "cell_type": "code",
      "source": [
        "matrix_u"
      ],
      "metadata": {
        "id": "7XwU1-CM0td3",
        "outputId": "c4ac59b4-d114-4648-eee4-dcd9e9767100",
        "colab": {
          "base_uri": "https://localhost:8080/"
        }
      },
      "execution_count": 65,
      "outputs": [
        {
          "output_type": "execute_result",
          "data": {
            "text/plain": [
              "<tf.Tensor: shape=(1, 3), dtype=int32, numpy=array([[3, 4, 3]], dtype=int32)>"
            ]
          },
          "metadata": {},
          "execution_count": 65
        }
      ]
    },
    {
      "cell_type": "code",
      "source": [
        "matrix_v"
      ],
      "metadata": {
        "id": "znB-thDs0vog",
        "outputId": "29edf543-65ad-482e-e9e0-b614ba9de9e7",
        "colab": {
          "base_uri": "https://localhost:8080/"
        }
      },
      "execution_count": 66,
      "outputs": [
        {
          "output_type": "execute_result",
          "data": {
            "text/plain": [
              "<tf.Tensor: shape=(1, 3), dtype=int32, numpy=array([[1, 2, 1]], dtype=int32)>"
            ]
          },
          "metadata": {},
          "execution_count": 66
        }
      ]
    },
    {
      "cell_type": "code",
      "source": [
        "tf.transpose(a=matrix_v)"
      ],
      "metadata": {
        "id": "quuArBIZ00VV",
        "outputId": "22b1d21f-a7b7-4c15-e52e-76ba6dd6c30d",
        "colab": {
          "base_uri": "https://localhost:8080/"
        }
      },
      "execution_count": 67,
      "outputs": [
        {
          "output_type": "execute_result",
          "data": {
            "text/plain": [
              "<tf.Tensor: shape=(3, 1), dtype=int32, numpy=\n",
              "array([[1],\n",
              "       [2],\n",
              "       [1]], dtype=int32)>"
            ]
          },
          "metadata": {},
          "execution_count": 67
        }
      ]
    },
    {
      "cell_type": "markdown",
      "metadata": {
        "id": "vY3v8Wu0o6np"
      },
      "source": [
        "### Casting a tensor to another (tensor) datatype"
      ]
    },
    {
      "cell_type": "code",
      "source": [
        "tensor1"
      ],
      "metadata": {
        "id": "44gcnLES1VC1",
        "outputId": "63c7ee12-f2e9-46b2-9e49-0d6ef43bb124",
        "colab": {
          "base_uri": "https://localhost:8080/"
        }
      },
      "execution_count": 70,
      "outputs": [
        {
          "output_type": "execute_result",
          "data": {
            "text/plain": [
              "<tf.Tensor: shape=(2, 6), dtype=float32, numpy=\n",
              "array([[ 0.,  1.,  2.,  3.,  4.,  5.],\n",
              "       [ 6.,  7.,  8.,  9., 10., 11.]], dtype=float32)>"
            ]
          },
          "metadata": {},
          "execution_count": 70
        }
      ]
    },
    {
      "cell_type": "code",
      "metadata": {
        "id": "RDGETTrwo6nq",
        "outputId": "dd892ddc-7269-4903-a9f7-1d87751b04a2",
        "colab": {
          "base_uri": "https://localhost:8080/"
        }
      },
      "source": [
        "i = tf.cast(tensor1, dtype=tf.int32)\n",
        "i"
      ],
      "execution_count": 71,
      "outputs": [
        {
          "output_type": "execute_result",
          "data": {
            "text/plain": [
              "<tf.Tensor: shape=(2, 6), dtype=int32, numpy=\n",
              "array([[ 0,  1,  2,  3,  4,  5],\n",
              "       [ 6,  7,  8,  9, 10, 11]], dtype=int32)>"
            ]
          },
          "metadata": {},
          "execution_count": 71
        }
      ]
    },
    {
      "cell_type": "markdown",
      "metadata": {
        "id": "xNhy-0Kgo6nu"
      },
      "source": [
        "### With truncation"
      ]
    },
    {
      "cell_type": "code",
      "metadata": {
        "id": "PS_ityxqo6nw",
        "outputId": "778cd0a0-facb-4c70-d599-ec459ccc9da2",
        "colab": {
          "base_uri": "https://localhost:8080/"
        }
      },
      "source": [
        "j = tf.cast(tf.constant(4.9), dtype=tf.int32)\n",
        "j"
      ],
      "execution_count": 72,
      "outputs": [
        {
          "output_type": "execute_result",
          "data": {
            "text/plain": [
              "<tf.Tensor: shape=(), dtype=int32, numpy=4>"
            ]
          },
          "metadata": {},
          "execution_count": 72
        }
      ]
    },
    {
      "cell_type": "markdown",
      "metadata": {
        "id": "s6PEqNR6o6n1"
      },
      "source": [
        "### Declaring Ragged tensors"
      ]
    },
    {
      "cell_type": "markdown",
      "metadata": {
        "id": "9npf2CBio6n2"
      },
      "source": [
        "`A ragged tensor is a tensor with one or more ragged dimensions. Ragged dimensions are dimensions that have slices that may have different lengths.There are a variety of methods for declaring ragged arrays, the simplest being a constant ragged\n",
        "array.`"
      ]
    },
    {
      "cell_type": "markdown",
      "metadata": {
        "id": "IR2LsUFuo6n3"
      },
      "source": [
        "#### The following example shows how to declare a constant ragged array and the lengths of the individual slices:"
      ]
    },
    {
      "cell_type": "code",
      "metadata": {
        "id": "SOwI9mPTo6n4",
        "outputId": "d27d7fb6-66e4-45e5-d4d7-1bbaf44d966e",
        "colab": {
          "base_uri": "https://localhost:8080/"
        }
      },
      "source": [
        "ragged =tf.ragged.constant([[5, 2, 6, 1], [], [4, 10, 7], [8], [6,7]])\n",
        "\n",
        "print(ragged)\n",
        "print(ragged[0,:])\n",
        "print(ragged[1,:])\n",
        "print(ragged[2,:])\n",
        "print(ragged[3,:])\n",
        "print(ragged[4,:])"
      ],
      "execution_count": 73,
      "outputs": [
        {
          "output_type": "stream",
          "name": "stdout",
          "text": [
            "<tf.RaggedTensor [[5, 2, 6, 1], [], [4, 10, 7], [8], [6, 7]]>\n",
            "tf.Tensor([5 2 6 1], shape=(4,), dtype=int32)\n",
            "tf.Tensor([], shape=(0,), dtype=int32)\n",
            "tf.Tensor([ 4 10  7], shape=(3,), dtype=int32)\n",
            "tf.Tensor([8], shape=(1,), dtype=int32)\n",
            "tf.Tensor([6 7], shape=(2,), dtype=int32)\n"
          ]
        }
      ]
    },
    {
      "cell_type": "markdown",
      "metadata": {
        "id": "pnY8DvByo6n9"
      },
      "source": [
        "### Finding the squared difference between two tensors"
      ]
    },
    {
      "cell_type": "code",
      "metadata": {
        "id": "sIBgnVBAo6n9",
        "outputId": "7b1443c4-67db-4f9e-8916-c326196b6f87",
        "colab": {
          "base_uri": "https://localhost:8080/"
        }
      },
      "source": [
        "varx = [1,3,5,7,11]\n",
        "vary = 5\n",
        "varz = tf.math.squared_difference(varx,vary)\n",
        "varz"
      ],
      "execution_count": 74,
      "outputs": [
        {
          "output_type": "execute_result",
          "data": {
            "text/plain": [
              "<tf.Tensor: shape=(5,), dtype=int32, numpy=array([16,  4,  0,  4, 36], dtype=int32)>"
            ]
          },
          "metadata": {},
          "execution_count": 74
        }
      ]
    },
    {
      "cell_type": "markdown",
      "metadata": {
        "id": "XplbzEblo6oB"
      },
      "source": [
        ">The Python variables, varx and vary, are cast into tensors and that vary is then broadcast across varx in this example. So, for example, the first calculation is (1-5)2 = 16."
      ]
    },
    {
      "cell_type": "markdown",
      "metadata": {
        "id": "ojG-K3_oo6oB"
      },
      "source": [
        "#### Finding the mean"
      ]
    },
    {
      "cell_type": "markdown",
      "metadata": {
        "id": "SlSjxOJ1o6oC"
      },
      "source": [
        ">The following is the signature of\n",
        ">tf.reduce_mean()."
      ]
    },
    {
      "cell_type": "markdown",
      "metadata": {
        "id": "z8uPKfCto6oD"
      },
      "source": [
        "`Note that this is equivalent to np.mean, except that it infers the return datatype from the input tensor,\n",
        "whereas np.mean allows you to specify the output type (defaulting to float64):`\n",
        "\n",
        "`tf.reduce_mean(input_tensor, axis=None, keepdims=None, name=None)`\n"
      ]
    },
    {
      "cell_type": "code",
      "metadata": {
        "id": "BbLBspkio6oD"
      },
      "source": [
        "#Defining a constant\n",
        "numbers = tf.constant([[4., 5.], [7., 3.]])"
      ],
      "execution_count": 78,
      "outputs": []
    },
    {
      "cell_type": "markdown",
      "metadata": {
        "id": "x8sshtQ3o6oL"
      },
      "source": [
        "#### Find the mean across all axes (use the default axis = None)"
      ]
    },
    {
      "cell_type": "code",
      "metadata": {
        "id": "dyRdtvxuo6oM",
        "outputId": "630df8be-7986-48f6-9438-7845ff958862",
        "colab": {
          "base_uri": "https://localhost:8080/"
        }
      },
      "source": [
        "tf.reduce_mean(input_tensor=numbers)\n",
        "#( 4. + 5. + 7. + 3.)/4 = 4.75"
      ],
      "execution_count": 79,
      "outputs": [
        {
          "output_type": "execute_result",
          "data": {
            "text/plain": [
              "<tf.Tensor: shape=(), dtype=float32, numpy=4.75>"
            ]
          },
          "metadata": {},
          "execution_count": 79
        }
      ]
    },
    {
      "cell_type": "markdown",
      "metadata": {
        "id": "aUENvk9Do6oO"
      },
      "source": [
        "#### Find the mean across columns (that is, reduce rows) with this:"
      ]
    },
    {
      "cell_type": "code",
      "metadata": {
        "id": "aRCaaG9Bo6oR",
        "colab": {
          "base_uri": "https://localhost:8080/"
        },
        "outputId": "70d5f226-e884-45db-e40e-6b142f6a0091"
      },
      "source": [
        "tf.reduce_mean(input_tensor=numbers, axis=0) # [ (4. + 7. )/2 , (5. + 3.)/2 ] = [5.5, 4.]"
      ],
      "execution_count": null,
      "outputs": [
        {
          "output_type": "execute_result",
          "data": {
            "text/plain": [
              "<tf.Tensor: shape=(2,), dtype=float32, numpy=array([5.5, 4. ], dtype=float32)>"
            ]
          },
          "metadata": {},
          "execution_count": 45
        }
      ]
    },
    {
      "cell_type": "markdown",
      "metadata": {
        "id": "cWHtX3KZo6oa"
      },
      "source": [
        "#### When keepdims is True, the reduced axis is retained with a length of 1:"
      ]
    },
    {
      "cell_type": "code",
      "metadata": {
        "id": "OHCCfX2Qo6oa",
        "outputId": "6e9e1aea-74e1-42c6-e84c-e12153a2a501",
        "colab": {
          "base_uri": "https://localhost:8080/"
        }
      },
      "source": [
        "tf.reduce_mean(input_tensor=numbers, axis=0, keepdims=True)"
      ],
      "execution_count": 81,
      "outputs": [
        {
          "output_type": "execute_result",
          "data": {
            "text/plain": [
              "<tf.Tensor: shape=(1, 2), dtype=float32, numpy=array([[5.5, 4. ]], dtype=float32)>"
            ]
          },
          "metadata": {},
          "execution_count": 81
        }
      ]
    },
    {
      "cell_type": "markdown",
      "metadata": {
        "id": "-JoTUanGo6oe"
      },
      "source": [
        "#### Find the mean across rows (that is, reduce columns) with this:"
      ]
    },
    {
      "cell_type": "code",
      "metadata": {
        "id": "AD9TgF8Xo6oh",
        "colab": {
          "base_uri": "https://localhost:8080/"
        },
        "outputId": "40d3c7ff-8797-4db1-bf76-3fb54d62a1bd"
      },
      "source": [
        "tf.reduce_mean(input_tensor=numbers, axis=1) # [ (4. + 5. )/2 , (7. + 3. )/2] = [4.5, 5]"
      ],
      "execution_count": 80,
      "outputs": [
        {
          "output_type": "execute_result",
          "data": {
            "text/plain": [
              "<tf.Tensor: shape=(2,), dtype=float32, numpy=array([4.5, 5. ], dtype=float32)>"
            ]
          },
          "metadata": {},
          "execution_count": 80
        }
      ]
    },
    {
      "cell_type": "markdown",
      "metadata": {
        "id": "mFFOV_tko6on"
      },
      "source": [
        "#### When keepdims is True, the reduced axis is retained with a length of 1:"
      ]
    },
    {
      "cell_type": "code",
      "metadata": {
        "id": "TT1AhsW0o6on",
        "outputId": "b1f0746d-429c-4d48-d415-554d35703772",
        "colab": {
          "base_uri": "https://localhost:8080/"
        }
      },
      "source": [
        "tf.reduce_mean(input_tensor=numbers, axis=1, keepdims=True)"
      ],
      "execution_count": 82,
      "outputs": [
        {
          "output_type": "execute_result",
          "data": {
            "text/plain": [
              "<tf.Tensor: shape=(2, 1), dtype=float32, numpy=\n",
              "array([[4.5],\n",
              "       [5. ]], dtype=float32)>"
            ]
          },
          "metadata": {},
          "execution_count": 82
        }
      ]
    },
    {
      "cell_type": "markdown",
      "metadata": {
        "id": "YGRSaheao6or"
      },
      "source": [
        "#### Generating tensors filled with random values"
      ]
    },
    {
      "cell_type": "markdown",
      "metadata": {
        "id": "_eUqmT-io6os"
      },
      "source": [
        "##### Using tf.random.normal()\n",
        "\n",
        ">tf.random.normal() outputs a tensor of the given shape filled with values of the dtype type from a normal distribution.\n",
        "\n",
        ">The required signature is as follows:\n",
        "    \n",
        ">tf. random.normal(shape, mean = 0, stddev =2, dtype=tf.float32, seed=None, name=None)"
      ]
    },
    {
      "cell_type": "code",
      "metadata": {
        "id": "a3kRyZ0Oo6os",
        "colab": {
          "base_uri": "https://localhost:8080/"
        },
        "outputId": "e58c4467-cf4d-4b6e-f377-9a1d6d5104ff"
      },
      "source": [
        "tf.random.normal(shape = (3,2), mean=10, stddev=2, dtype=tf.float32, seed=None, name=None)\n",
        "ran = tf.random.normal(shape = (3,2), mean=10.0, stddev=2.0)\n",
        "print(ran)"
      ],
      "execution_count": 83,
      "outputs": [
        {
          "output_type": "stream",
          "name": "stdout",
          "text": [
            "tf.Tensor(\n",
            "[[12.019365  10.410571 ]\n",
            " [ 9.009202  10.367804 ]\n",
            " [13.2955     7.2725687]], shape=(3, 2), dtype=float32)\n"
          ]
        }
      ]
    },
    {
      "cell_type": "markdown",
      "metadata": {
        "id": "dh2_NKsno6ou"
      },
      "source": [
        "#### Using tf.random.uniform()"
      ]
    },
    {
      "cell_type": "markdown",
      "metadata": {
        "id": "Oqky5GJAo6ou"
      },
      "source": [
        ">The required signature is this:\n",
        "    \n",
        ">tf.random.uniform(shape, minval = 0, maxval= None, dtype=tf.float32, seed=None, name=None)"
      ]
    },
    {
      "cell_type": "markdown",
      "metadata": {
        "id": "YFEzbvVgo6ov"
      },
      "source": [
        "`This outputs a tensor of the given shape filled with values from a uniform distribution in the range\n",
        "minval to maxval, where the lower bound is inclusive but the upper bound isn't.\n",
        "Take this, for example:`"
      ]
    },
    {
      "cell_type": "code",
      "metadata": {
        "id": "5-efPKueo6ox",
        "outputId": "f5956825-67d3-4843-ce53-48bc23c935ce",
        "colab": {
          "base_uri": "https://localhost:8080/"
        }
      },
      "source": [
        "tf.random.uniform(shape = (2,4), minval=0, maxval=None, dtype=tf.float32, seed=None, name=None)"
      ],
      "execution_count": 84,
      "outputs": [
        {
          "output_type": "execute_result",
          "data": {
            "text/plain": [
              "<tf.Tensor: shape=(2, 4), dtype=float32, numpy=\n",
              "array([[0.7318202 , 0.5563679 , 0.7807828 , 0.19032979],\n",
              "       [0.12029028, 0.6667366 , 0.8317009 , 0.95224047]], dtype=float32)>"
            ]
          },
          "metadata": {},
          "execution_count": 84
        }
      ]
    },
    {
      "cell_type": "markdown",
      "metadata": {
        "id": "JZI56FtIo6o3"
      },
      "source": [
        "#### Setting the seed"
      ]
    },
    {
      "cell_type": "code",
      "metadata": {
        "id": "pMSRdOoxo6o4",
        "outputId": "1c4687ca-e0c7-4a4b-b66d-190c88134b90",
        "colab": {
          "base_uri": "https://localhost:8080/"
        }
      },
      "source": [
        "tf.random.set_seed(11)\n",
        "ran1 = tf.random.uniform(shape = (2,2), maxval=10, dtype = tf.int32)\n",
        "ran2 = tf.random.uniform(shape = (2,2), maxval=10, dtype = tf.int32)\n",
        "print(ran1) #Call 1\n",
        "print(ran2)"
      ],
      "execution_count": 85,
      "outputs": [
        {
          "output_type": "stream",
          "name": "stdout",
          "text": [
            "tf.Tensor(\n",
            "[[4 6]\n",
            " [5 2]], shape=(2, 2), dtype=int32)\n",
            "tf.Tensor(\n",
            "[[9 7]\n",
            " [9 4]], shape=(2, 2), dtype=int32)\n"
          ]
        }
      ]
    },
    {
      "cell_type": "code",
      "metadata": {
        "id": "0kRLOtcbo6o9",
        "outputId": "a0367c2f-b7cf-47f7-bf56-58ce598f5cdd",
        "colab": {
          "base_uri": "https://localhost:8080/"
        }
      },
      "source": [
        "tf.random.set_seed(11) #same seed\n",
        "ran1 = tf.random.uniform(shape = (2,2), maxval=10, dtype = tf.int32)\n",
        "ran2 = tf.random.uniform(shape = (2,2), maxval=10, dtype = tf.int32)\n",
        "print(ran1) #Call 2\n",
        "print(ran2)"
      ],
      "execution_count": 86,
      "outputs": [
        {
          "output_type": "stream",
          "name": "stdout",
          "text": [
            "tf.Tensor(\n",
            "[[4 6]\n",
            " [5 2]], shape=(2, 2), dtype=int32)\n",
            "tf.Tensor(\n",
            "[[9 7]\n",
            " [9 4]], shape=(2, 2), dtype=int32)\n"
          ]
        }
      ]
    },
    {
      "cell_type": "code",
      "source": [
        "tf.random.set_seed(12) #diff seed\n",
        "ran1 = tf.random.uniform(shape = (2,2), maxval=10, dtype = tf.int32)\n",
        "ran2 = tf.random.uniform(shape = (2,2), maxval=10, dtype = tf.int32)\n",
        "print(ran1) #Call 2\n",
        "print(ran2)"
      ],
      "metadata": {
        "id": "ZEgMAa288bxb",
        "outputId": "d845baf3-d9a6-403d-d221-680073ed2972",
        "colab": {
          "base_uri": "https://localhost:8080/"
        }
      },
      "execution_count": 87,
      "outputs": [
        {
          "output_type": "stream",
          "name": "stdout",
          "text": [
            "tf.Tensor(\n",
            "[[2 2]\n",
            " [6 2]], shape=(2, 2), dtype=int32)\n",
            "tf.Tensor(\n",
            "[[8 2]\n",
            " [2 2]], shape=(2, 2), dtype=int32)\n"
          ]
        }
      ]
    },
    {
      "cell_type": "markdown",
      "metadata": {
        "id": "8XH1O5Nio6pC"
      },
      "source": [
        "#### Practical example of Random values using Dices"
      ]
    },
    {
      "cell_type": "code",
      "metadata": {
        "id": "jJTd5UR9o6pC",
        "outputId": "26137dc0-c637-4d13-d2e4-71fe12b8ea57",
        "colab": {
          "base_uri": "https://localhost:8080/"
        }
      },
      "source": [
        "dice1 = tf.Variable(tf.random.uniform([10, 1], minval=1, maxval=7, dtype=tf.int32))\n",
        "dice2 = tf.Variable(tf.random.uniform([10, 1], minval=1, maxval=7, dtype=tf.int32))\n",
        "# We may add dice1 and dice2 since they share the same shape and size.\n",
        "dice_sum = dice1 + dice2\n",
        "# We've got three separate 10x1 matrices. To produce a single\n",
        "# 10x3 matrix, we'll concatenate them along dimension 1.\n",
        "resulting_matrix = tf.concat(values=[dice1, dice2, dice_sum], axis=1)\n",
        "print(resulting_matrix)"
      ],
      "execution_count": 88,
      "outputs": [
        {
          "output_type": "stream",
          "name": "stdout",
          "text": [
            "tf.Tensor(\n",
            "[[ 3  6  9]\n",
            " [ 3  3  6]\n",
            " [ 4  6 10]\n",
            " [ 1  1  2]\n",
            " [ 1  6  7]\n",
            " [ 4  4  8]\n",
            " [ 3  6  9]\n",
            " [ 2  2  4]\n",
            " [ 2  1  3]\n",
            " [ 4  2  6]], shape=(10, 3), dtype=int32)\n"
          ]
        }
      ]
    },
    {
      "cell_type": "markdown",
      "metadata": {
        "id": "Kmx58nfAo6pF"
      },
      "source": [
        "#### Finding the indices of the largest and smallest element"
      ]
    },
    {
      "cell_type": "markdown",
      "metadata": {
        "id": "6Nqxfm9Do6pF"
      },
      "source": [
        ">The signatures of the functions are as follows:\n",
        "    \n",
        ">`tf.argmax(input, axis=None, name=None, output_type=tf.int64 )`\n",
        "\n",
        ">`tf.argmin(input, axis=None, name=None, output_type=tf.int64 )`"
      ]
    },
    {
      "cell_type": "code",
      "metadata": {
        "id": "jobaZbi9o6pF",
        "outputId": "018e0373-a2b2-4253-950e-06f66a86da80",
        "colab": {
          "base_uri": "https://localhost:8080/"
        }
      },
      "source": [
        "# 1-D tensor\n",
        "t5 = tf.constant([2, 11, 5, 42, 7, 19, -6, -11, 29])\n",
        "print(t5)\n",
        "\n",
        "i = tf.argmax(input=t5)\n",
        "print('index of max;', i.numpy())\n",
        "print('Max element: ',t5[i].numpy())\n",
        "\n",
        "\n",
        "i = tf.argmin(input=t5,axis=0).numpy()\n",
        "print('index of min: ', i)\n",
        "print('Min element: ',t5[i].numpy())\n",
        "\n",
        "\n",
        "t6 = tf.reshape(t5, [3,3])\n",
        "print(t6)\n",
        "\n",
        "\n",
        "i = tf.argmax(input=t6,axis=0).numpy() # max arg down rows\n",
        "print('indices of max down cols; ', i)\n",
        "\n",
        "i = tf.argmin(input=t6,axis=0).numpy() # min arg down rows\n",
        "print('indices of min down cols ; ',i)\n",
        "print(t6)\n",
        "\n",
        "i = tf.argmax(input=t6,axis=1).numpy() # max arg across cols\n",
        "print('indices of max across rows: ',i)\n",
        "\n",
        "i = tf.argmin(input=t6,axis=1).numpy() # min arg across cols\n",
        "print('indices of min across rows: ',i)\n"
      ],
      "execution_count": 97,
      "outputs": [
        {
          "output_type": "stream",
          "name": "stdout",
          "text": [
            "tf.Tensor([  2  11   5  42   7  19  -6 -11  29], shape=(9,), dtype=int32)\n",
            "index of max; 3\n",
            "Max element:  42\n",
            "index of min:  7\n",
            "Min element:  -11\n",
            "tf.Tensor(\n",
            "[[  2  11   5]\n",
            " [ 42   7  19]\n",
            " [ -6 -11  29]], shape=(3, 3), dtype=int32)\n",
            "indices of max down cols;  [1 0 2]\n",
            "indices of min down cols ;  [2 2 0]\n",
            "tf.Tensor(\n",
            "[[  2  11   5]\n",
            " [ 42   7  19]\n",
            " [ -6 -11  29]], shape=(3, 3), dtype=int32)\n",
            "indices of max across rows:  [1 0 2]\n",
            "indices of min across rows:  [0 1 1]\n"
          ]
        }
      ]
    },
    {
      "cell_type": "markdown",
      "metadata": {
        "id": "RIkb89WJo6pH"
      },
      "source": [
        "#### Saving and restoring tensor values using a checkpoint"
      ]
    },
    {
      "cell_type": "code",
      "metadata": {
        "id": "HkF2G1dUo6pI"
      },
      "source": [
        "variable = tf.Variable([[1,3,5,7],[11,13,17,19]])\n",
        "checkpoint= tf.train.Checkpoint(var=variable)\n",
        "save_path = checkpoint.save('./vars')\n"
      ],
      "execution_count": 98,
      "outputs": []
    },
    {
      "cell_type": "code",
      "source": [
        "variable.assign([[0,0,0,0],[0,0,0,0]])\n",
        "variable\n"
      ],
      "metadata": {
        "id": "E3TLGN3QGaeh",
        "outputId": "1cd2c936-b72e-4c7b-97c6-d24d486c0f3d",
        "colab": {
          "base_uri": "https://localhost:8080/"
        }
      },
      "execution_count": 99,
      "outputs": [
        {
          "output_type": "execute_result",
          "data": {
            "text/plain": [
              "<tf.Variable 'Variable:0' shape=(2, 4) dtype=int32, numpy=\n",
              "array([[0, 0, 0, 0],\n",
              "       [0, 0, 0, 0]], dtype=int32)>"
            ]
          },
          "metadata": {},
          "execution_count": 99
        }
      ]
    },
    {
      "cell_type": "code",
      "source": [
        "checkpoint.restore(save_path)\n",
        "print(variable)"
      ],
      "metadata": {
        "id": "hDEo_KPjGah9",
        "outputId": "aa0e6477-b128-424a-bfa3-bb266375a095",
        "colab": {
          "base_uri": "https://localhost:8080/"
        }
      },
      "execution_count": 100,
      "outputs": [
        {
          "output_type": "stream",
          "name": "stdout",
          "text": [
            "<tf.Variable 'Variable:0' shape=(2, 4) dtype=int32, numpy=\n",
            "array([[ 1,  3,  5,  7],\n",
            "       [11, 13, 17, 19]], dtype=int32)>\n"
          ]
        }
      ]
    },
    {
      "cell_type": "markdown",
      "metadata": {
        "id": "qN-i_ER2o6pK"
      },
      "source": [
        "#### Using tf.function\n",
        "\n",
        "`tf.function is a function that will take a Python function and return a TensorFlow graph. The\n",
        "advantage of this is that graphs can apply optimizations and exploit parallelism in the Python\n",
        "function (func). tf.function is new to TensorFlow 2.`\n"
      ]
    },
    {
      "cell_type": "markdown",
      "metadata": {
        "id": "Y7fwBN9ho6pK"
      },
      "source": [
        ">Its signature is as follows:\n",
        "    \n",
        "`tf.function(\n",
        "func=None,\n",
        "input_signature=None,\n",
        "autograph=True,\n",
        "experimental_autograph_options=None\n",
        ")`\n"
      ]
    },
    {
      "cell_type": "code",
      "metadata": {
        "id": "SojZSv7Do6pK"
      },
      "source": [
        "def f1(x, y):\n",
        "    return tf.reduce_mean(input_tensor=tf.multiply(x ** 2, 5) + y**2)\n",
        "\n",
        "\n",
        "x = tf.constant([4., -5.])\n",
        "y = tf.constant([2., 3.])\n",
        "\n",
        "# f1 and f2 return the same value, but f2 executes as a TensorFlow graph\n",
        "assert f1(x,y).numpy() == f2(x,y).numpy()\n",
        "#The assert passes, so there is no output"
      ],
      "execution_count": 101,
      "outputs": []
    },
    {
      "cell_type": "code",
      "source": [
        "f1(x, y)"
      ],
      "metadata": {
        "id": "ejqiGkI7G4qg",
        "outputId": "2d86e31f-8abf-4299-d4ea-127fdfc22314",
        "colab": {
          "base_uri": "https://localhost:8080/"
        }
      },
      "execution_count": 102,
      "outputs": [
        {
          "output_type": "execute_result",
          "data": {
            "text/plain": [
              "<tf.Tensor: shape=(), dtype=float32, numpy=109.0>"
            ]
          },
          "metadata": {},
          "execution_count": 102
        }
      ]
    },
    {
      "cell_type": "code",
      "source": [
        "f2 = tf.function(f1)"
      ],
      "metadata": {
        "id": "qvMuvRF8G4uP"
      },
      "execution_count": 103,
      "outputs": []
    },
    {
      "cell_type": "code",
      "source": [
        "f2"
      ],
      "metadata": {
        "id": "SdLbzblXG4yp",
        "outputId": "94c6f2ed-4ef1-413a-d933-dc74186d479a",
        "colab": {
          "base_uri": "https://localhost:8080/"
        }
      },
      "execution_count": 104,
      "outputs": [
        {
          "output_type": "execute_result",
          "data": {
            "text/plain": [
              "<tensorflow.python.eager.polymorphic_function.polymorphic_function.Function at 0x7b04ade8d510>"
            ]
          },
          "metadata": {},
          "execution_count": 104
        }
      ]
    },
    {
      "cell_type": "markdown",
      "metadata": {
        "id": "TPNouaRMo6pM"
      },
      "source": [
        "## Calculate the gradient"
      ]
    },
    {
      "cell_type": "markdown",
      "metadata": {
        "id": "IEDgKRoro6pM"
      },
      "source": [
        "### GradientTape"
      ]
    },
    {
      "cell_type": "markdown",
      "metadata": {
        "id": "7CyL_IKto6pM"
      },
      "source": [
        ">Another difference from numpy is that it can automatically track the gradient of any variable.\n",
        "\n",
        ">Open one GradientTape and `tape.watch()` track variables through"
      ]
    },
    {
      "cell_type": "code",
      "metadata": {
        "id": "zNLkHGwwo6pN",
        "outputId": "b536d4bc-7fcf-4973-99a9-ef7d48c66557",
        "colab": {
          "base_uri": "https://localhost:8080/"
        }
      },
      "source": [
        "a = tf.random.normal(shape=(2,2))\n",
        "b = tf.random.normal(shape=(2,2))\n",
        "\n",
        "with tf.GradientTape() as tape:\n",
        "    tape.watch(a)\n",
        "    c = tf.sqrt(tf.square(a)+tf.square(b))\n",
        "    dc_da = tape.gradient(c,a)\n",
        "    print(dc_da)"
      ],
      "execution_count": 105,
      "outputs": [
        {
          "output_type": "stream",
          "name": "stdout",
          "text": [
            "tf.Tensor(\n",
            "[[-0.58996874  0.9930184 ]\n",
            " [ 0.39844632 -0.9196172 ]], shape=(2, 2), dtype=float32)\n"
          ]
        }
      ]
    },
    {
      "cell_type": "markdown",
      "metadata": {
        "id": "uuK0cC3xo6pQ"
      },
      "source": [
        ">For all variables, the calculation is tracked by default and used to find the gradient, so do not `usetape.watch()`"
      ]
    },
    {
      "cell_type": "code",
      "metadata": {
        "id": "SqZj7hRYo6pQ",
        "outputId": "a0843e31-5422-405a-9d2c-7960a4424a9f",
        "colab": {
          "base_uri": "https://localhost:8080/"
        }
      },
      "source": [
        "a = tf.Variable(a)\n",
        "with tf.GradientTape() as tape:\n",
        "    c = tf.sqrt(tf.square(a)+tf.square(b))\n",
        "    dc_da = tape.gradient(c,a)\n",
        "    print(dc_da)"
      ],
      "execution_count": 106,
      "outputs": [
        {
          "output_type": "stream",
          "name": "stdout",
          "text": [
            "tf.Tensor(\n",
            "[[-0.58996874  0.9930184 ]\n",
            " [ 0.39844632 -0.9196172 ]], shape=(2, 2), dtype=float32)\n"
          ]
        }
      ]
    },
    {
      "cell_type": "markdown",
      "metadata": {
        "id": "hTEjg7pro6pS"
      },
      "source": [
        "> You can GradientTapefind higher-order derivatives by opening a few more:"
      ]
    },
    {
      "cell_type": "code",
      "metadata": {
        "id": "k1Ow5DUTo6pS",
        "outputId": "e856b802-fb8a-416c-83a7-e31cb5823480",
        "colab": {
          "base_uri": "https://localhost:8080/"
        }
      },
      "source": [
        "with tf.GradientTape() as outer_tape:\n",
        "    with tf.GradientTape() as tape:\n",
        "        c = tf.sqrt(tf.square(a)+tf.square(b))\n",
        "        dc_da = tape.gradient(c,a)\n",
        "    d2c_d2a = outer_tape.gradient(dc_da,a)\n",
        "    print(d2c_d2a)"
      ],
      "execution_count": 107,
      "outputs": [
        {
          "output_type": "stream",
          "name": "stdout",
          "text": [
            "tf.Tensor(\n",
            "[[0.9374455  0.02618253]\n",
            " [0.4112303  0.13079137]], shape=(2, 2), dtype=float32)\n"
          ]
        }
      ]
    }
  ]
}